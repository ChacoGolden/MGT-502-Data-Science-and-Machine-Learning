{
 "cells": [
  {
   "cell_type": "code",
   "execution_count": 10,
   "id": "15dc4475-7f7d-4457-8762-bb031a0629b2",
   "metadata": {},
   "outputs": [],
   "source": [
    "# Import standard libraries\n",
    "import pandas as pd\n",
    "import numpy as np\n",
    "import seaborn\n",
    "import matplotlib.pylab as plt\n",
    "%matplotlib inline\n",
    "\n",
    "# Import to load arff file from url\n",
    "from scipy.io import arff\n",
    "import urllib.request\n",
    "import io \n",
    "\n",
    "# Sklearn import\n",
    "from sklearn.model_selection import train_test_split # Splitting the data set\n",
    "from sklearn.model_selection import KFold, cross_val_score # Cross validation\n",
    "from sklearn.preprocessing import MinMaxScaler # Normalization\n",
    "from sklearn.preprocessing import PolynomialFeatures # Polynomial features\n",
    "from sklearn.preprocessing import LabelEncoder #Label encoding\n",
    "from sklearn.preprocessing import OneHotEncoder # 1-hot encoding\n",
    "from sklearn.linear_model import LinearRegression # Regression linear model\n",
    "from sklearn.linear_model import Lasso # Lasso model\n",
    "from sklearn.linear_model import Ridge # Ridge model\n",
    "from sklearn.linear_model import LassoCV # Lasso with cross validation\n",
    "from sklearn.linear_model import RidgeCV # Ridge with cross validation\n",
    "from sklearn.linear_model import ElasticNet # ElasticNet model\n",
    "from sklearn.metrics import mean_squared_error, mean_absolute_error, r2_score # Metrics for errors"
   ]
  },
  {
   "cell_type": "markdown",
   "id": "a844a8c0-078c-4946-8927-e570469c601c",
   "metadata": {},
   "source": [
    "# Regression"
   ]
  },
  {
   "cell_type": "markdown",
   "id": "9984e553-36af-42c8-9522-dd090686c913",
   "metadata": {},
   "source": [
    "<img src='https://imgs.xkcd.com/comics/linear_regression.png' width=\"400\">\n",
    "\n",
    "Source: [xqcd 1725](https://xkcd.com/1725)"
   ]
  },
  {
   "cell_type": "markdown",
   "id": "4392fab0-671b-45ea-b27a-61a797c0e090",
   "metadata": {},
   "source": [
    "## Content\n",
    "\n",
    "The goal of this walkthrough is to provide you with insights on regression. After presenting the main concepts, you will be introduced to the techniques to implement these concepts in Python. Finally, it will be your turn to practice, using an application on energy efficiency. \n",
    "\n",
    "This notebook is organized as follows:\n",
    "- [Background](#Background)\n",
    "    - [Objective](#Objective)\n",
    "    - [Econometrics vs ML](#A-quick-word-on-econometrics-vs-Machine-Learning)\n",
    "    - [Model](#Model)\n",
    "        - [Least squares problem](#Least-squares-problem)\n",
    "        - [Regularization](#model-regul)\n",
    "        - [Why LASSO leads to feature selection?](#Why-LASSO-leads-to-feature-selection?)\n",
    "    - [Solving our model: learning parameters via gradient descent](#Solving-our-model:-learning-parameters-via-gradient-descent)\n",
    "- [Implementation](#Implementation)\n",
    "    - [Load and discover the dataset](#Load-and-discover-the-dataset)\n",
    "    - [Linear regression](#Linear-regression)\n",
    "        - [Splitting the dataset](#linear-split)\n",
    "        - [Create and Fit model](#linear-train)\n",
    "        - [Prediction and Evaluation](#linear-test)\n",
    "    - [Multivariate-linear regression](#Multivariate-linear-regression)\n",
    "        - [Splitting the dataset](#multivariate-split)\n",
    "        - [Encoding](#Preprocessing:-encoding-categorical-variables)\n",
    "        - [Rescaling](#rescaling)\n",
    "        - [Create and Fit model](#multivariate-train)\n",
    "        - [Prediction and Evaluation](#multivariate-test)    \n",
    "    - [Polynomial linear regression](#Polynomial-linear-regression)\n",
    "    - [Regularization](#Regularization)\n",
    "        - [Ridge](#Ridge)\n",
    "        - [Lasso](#Lasso)\n",
    "    - [K-fold cross validation](#K-fold-cross-validation)\n",
    "- [Your turn](#Your-turn)"
   ]
  },
  {
   "cell_type": "markdown",
   "id": "7763984b-c9d6-43b0-ba06-fd749431aa32",
   "metadata": {},
   "source": [
    "## Background\n",
    "\n",
    "### Objective\n",
    "\n",
    "The goal of a regression is to estimate the relationships between a dependent variable (aka outcome, response, or label) and one or more independent variables (aka features, predictors, or explanatory variables).\n",
    "\n",
    "Why?\n",
    "- Predict outcome values\n",
    "- Causal inference: analyze causal relation, for instance to provide policy recommendations\n",
    "- Test a model / hypothesis\n",
    "- ...\n"
   ]
  },
  {
   "cell_type": "markdown",
   "id": "125776bc-7847-42f6-9ac5-3072241f052d",
   "metadata": {},
   "source": [
    "### A quick word on econometrics vs Machine Learning\n",
    "\n",
    "- Machine Learning and Econometrics both gather a collection of methods, including (linear) regression, that can be used to answer a research question.\n",
    "- The roots of ML is computer sciences while Econometrics is applied statistics, but...\n",
    "- ...each field shares a lot: they are built on a similar mathematical bricks such as linear algebra, optimization, statistics & probability theory\n",
    "- They (generally) differ on their goal and approach used:\n",
    "    - Econometrics is often interested in causal interpretation. To do so, you make assumptions about how your data was generated (i.e., from which distribution)\n",
    "    - The goal of ML is prediction accuracy. To do so, you train an algorithm on a subset of your data and then test this model (and train again...)\n",
    "- That being said, this is an oversimplification since there are strong overlaps between the two: e.g. ML can also be interested in causality and ML algorithms make (implicit) assumptions."
   ]
  },
  {
   "cell_type": "markdown",
   "id": "251e9265-3d22-4a07-8838-23b32fce472f",
   "metadata": {},
   "source": [
    "### Model\n",
    "\n",
    "Suppose we have *n* observations of an outcome $\\boldsymbol{y}$ and *d* associated features $\\boldsymbol{x_1}$, $\\boldsymbol{x_2}$, ... , $\\boldsymbol{x_d}$ (note that $\\boldsymbol{y}$, $\\boldsymbol{x_1}$, ..., $\\boldsymbol{x_d}$ are vectors):\n",
    "\n",
    "| | Outcome | Feature 1 | Feature 2 | ... | Feature d |\n",
    "|:-------|:----------:|:----------:|:----------:|:----------:|:----------:|\n",
    "| Observation 1 | $y_1$ | $x_{11}$ | $x_{12}$ | ... | $x_{1d}$ |\n",
    "| Observation 2 | $y_2$ | $x_{21}$ | $x_{22}$ | ... | $x_{2d}$ |\n",
    "| ... | ... | ... | ... | ... | ... |\n",
    "| Observation n | $y_n$ | $x_{n1}$ | $x_{n2}$ | ... | $x_{nd}$ |\n",
    "\n",
    "Regression is to relate feature variables to the outcome variable, to either predict outcomes for new observations and/or to understand the effect of the features on the output. For both goals, we need to find a function that approximates the output “well enough” given some inputs.\n",
    "\n",
    "For instance, in the case of multivariate linear regression, we can write, for each observation $i$:\n",
    "$$y_i = w_0 + w_1 x_{i,1} +  w_2 x_{i,2} + ... +  w_d x_{i,d} + \\epsilon_i $$\n",
    "\n",
    "Where $\\epsilon_i$ is the error term, $w_0$ the intercept, and $w_1$, ... , $w_d$ the slope coefficients (i.e., weights) of each feature.\n",
    "\n",
    "For each observation, we call our predicted value: \n",
    "$$\\hat{y_i}:=w_0 + w_1 x_{i,1} +  w_2 x_{i,2} + ... +  w_d x_{i,d}$$\n",
    "\n",
    "In other words, we have: $y_i = \\hat{y_i} + \\epsilon_i $ \n",
    "\n",
    "More generally, let $f$ be our model function, $\\boldsymbol{w}=(w_0, w_1, ..., w_d)$ the vector of weights, and $\\boldsymbol{X}=[\\boldsymbol{x_1}$, ... , $\\boldsymbol{x_d}]$ the matrix of feature variables. For all observations, we have, with $\\boldsymbol{X_{i*}}$ the $i^{th}$ row:\n",
    "\n",
    "$$\\hat{y_i} := f(\\boldsymbol{X_{i*}}, \\boldsymbol{w})$$\n",
    "\n",
    "In our illustration, we have focused on a multivariate linear regression, but the formulation will be the same for more complex models, such as neural networks, which we will see later in this course.\n",
    "\n",
    "Now our objective is to find the predicted values $\\hat{y_i}$ that are the closest to the observations $y_i$. In other words, we want to minimize the errors $\\epsilon_i = y_i - \\hat{y_i}$. There are several possible techniques. Below, we present the simplest one, namely the *least squares* problem."
   ]
  },
  {
   "cell_type": "markdown",
   "id": "1edb4df8-98f9-4903-ae42-65e57e0d8a84",
   "metadata": {},
   "source": [
    "#### Least squares problem\n",
    "\n",
    "The idea is to minimize the sum of squared residuals (aka RSS - Residual Sum of Squares):\n",
    "\n",
    "$$ \\min_\\boldsymbol{w} \\sum_{i=1}^n (y_i - \\hat{y_i})^2 = \\min_\\boldsymbol{w} \\sum_{i=1}^n (y_i - f(\\boldsymbol{X_{i*}}, \\boldsymbol{w}))^2 $$\n",
    "\n",
    "Graphically, for a simple linear regression, we minimize the area of the squares between our observation and our predicted value:  \n",
    "\n",
    "<img src='https://upload.wikimedia.org/wikipedia/commons/8/86/Coefficient_of_Determination.svg' width=\"600\">\n",
    "\n",
    "Source: [Wikipedia - Coefficient of determination. Author: Orzetto](https://commons.wikimedia.org/wiki/File:Coefficient_of_Determination.svg)\n",
    "\n",
    "The [coefficient of determination](https://en.wikipedia.org/wiki/Coefficient_of_determination) $R^2$ informs about the goodness of fit: $R^2= 1 -\\frac{\\color{blue}{RSS}}{\\color{red}{TSS}} $\n",
    "- Residual Sum of Squares: $\\color{blue}{RSS=\\sum_i (y_i - \\hat{y_i})^2}$\n",
    "- Total Sum of Squares: $\\color{red}{TSS=\\sum_i (y_i - \\bar{y})^2}$\n",
    "\n",
    "When $R^2=1$, then $RSS=0$, meaning all the errors are equal to zero, and the model gives \"perfect\" prediction.  \n",
    "When $R^2=0$, then $RSS=TSS$, hence our model is not more informative that taking the average of our observations.\n",
    "\n",
    "The prediction errors will generally decrease with the complexity of the model, e.g., with more features. But what could go wrong?\n",
    "- The prediction error decreases but... there is a risk of overfitting: the model cannot be generalized!\n",
    "- There may be no solutions (risk of multicollinearity of matrix $\\boldsymbol{X}$)"
   ]
  },
  {
   "attachments": {
    "b5106917-6f29-41df-9ca8-8f279690c1a0.png": {
     "image/png": "[encoded data removed]"
    }
   },
   "cell_type": "markdown",
   "id": "fe565254-abb1-48c4-83a7-e4cfc2099707",
   "metadata": {},
   "source": [
    "<img src='attachment:b5106917-6f29-41df-9ca8-8f279690c1a0.png' width=\"600\">\n",
    "\n",
    "Source: Ann Sajee, [Model complexity accuracy and interpretability, Towards Data Science](https://towardsdatascience.com/model-complexity-accuracy-and-interpretability-59888e69ab3d)"
   ]
  },
  {
   "cell_type": "markdown",
   "id": "0a5500d8-76a8-4fc0-b128-b8779ba221ab",
   "metadata": {},
   "source": [
    "#### Regularization <a id='model-regul'></a>\n",
    "\n",
    "Our objective is to tackle the limitations of the least square problem, in particular [overfitting](https://en.wikipedia.org/wiki/Overfitting). An overfitted model contains more parameters than can be justified by the data. \n",
    "\n",
    "What can we do? One technique is called [regularization](https://en.wikipedia.org/wiki/Regularization_(mathematics))\n",
    "\n",
    "The general idea is to put an additional constraint - or penalty - on our parameters $\\boldsymbol{w}$, instead of optimizing only on the errors. Here is the new problem formulation:\n",
    "\n",
    "$$ \\min_\\boldsymbol{w} L(\\boldsymbol{y}, \\boldsymbol{X}, \\boldsymbol{w}) + \\lambda R(\\boldsymbol{w}) $$\n",
    "\n",
    "- $L(\\boldsymbol{y}, \\boldsymbol{X}, \\boldsymbol{w})$ is the **loss** function. It measures the prediction error. \n",
    "    - For instance, we can use the least square loss function:\n",
    "$ L(\\boldsymbol{y}, \\boldsymbol{X}, \\boldsymbol{w}) = \\frac{1}{n} \\sum_i^n (y_i - f(\\boldsymbol{X_{i*}}, \\boldsymbol{w}))^2 $\n",
    "- $\\lambda$ is the penalty term\n",
    "- $R(\\boldsymbol{w})$ is the **regularization** function that constrains the model, typically penalizing the parameters $w_0$, $w_1$, ..., $w_d$. What regularization function should we use? Below are some common examples...\n",
    "\n",
    "**LASSO**  regression, standing for \"Least Absolute Selection and Shrinkage\", is using the 1-norm ([absolute value norm](https://en.wikipedia.org/wiki/Norm_(mathematics)#Absolute-value_norm)) of the parameters as regularization function: \n",
    "$$ R(\\boldsymbol{w})= \\sum_{j=1}^d |w_j| $$\n",
    "\n",
    "- Pros\n",
    "    - Force most entries of $\\boldsymbol{w}$ to be 0. In other words, there is selection effect, and the technique is preferred when $\\boldsymbol{w}$ is expected to be sparse\n",
    "    - It enables to do a linear regression when there are more features than observations ($d > n$)\n",
    "- Cons\n",
    "    - Arbitrary selection among highly correlated variables\n",
    "    - Selects at most $n$ features when more features than observations ($d > n$)\n",
    "    - Features with small $w_j$ values will be forced to zero\n",
    "\n",
    "**Ridge** regression is using the square of the 2-norm ([Euclidean norm](https://en.wikipedia.org/wiki/Norm_(mathematics)#Euclidean_norm)) of the parameters as regularization function: $$R(\\boldsymbol{w})= \\sum_{j=1}^d w_j^2 $$\n",
    "\n",
    "- Pros\n",
    "    - More stable solution (shrink parameters estimate). This method is thus preferred when $\\boldsymbol{w}$ is expected to take small values\n",
    "    - It enables to do a linear regression when there are more features than observations ($d > n$)\n",
    "- Cons\n",
    "    - Less sensitive to data\n",
    "    - $\\boldsymbol{w}$ is typically still not sparse\n",
    "\n",
    "**Elastic net** regression is using a linear combination of Ridge and Lasso: $$ R(\\boldsymbol{w})= \\lambda_1 \\sum_{j=1}^d |w_j| + \\lambda_2 \\sum_{j=1}^d w_j^2 $$\n",
    "\n",
    "- Pros\n",
    "    - Ridge term makes the problem convex (unique solution)\n",
    "    - Overcome some of the limitations of LASSO: can select group of highly correlated variables and more than $n$ features when more features than observations ($d > n$) \n"
   ]
  },
  {
   "cell_type": "markdown",
   "id": "7bb4289a-28bd-45fc-8ac1-08ff817145e1",
   "metadata": {},
   "source": [
    "#### Why LASSO leads to feature selection?\n",
    "\n",
    "In the previous section, we have state that LASSO regression forces weights to zero, hence selecting features, while Ridge was shrinking parameters. Why is that? The answer lies in the shape of the functions. Mathematically, the ridge regularization function is convex while LASSO is not. \n",
    "\n",
    "What does it imply? Let's see graphically, in a model with two features:\n",
    "$$ y_i= w_1 x_{i,1} + w_2 x_{i,2} + \\epsilon_i $$\n",
    "\n",
    "The least square loss function is quadratic: \n",
    "$$L(w_1, w_2) = \\sum_i^n (y_i - w_1 x_{i,1} - w_2 x_{i,2})^2$$\n",
    "\n",
    "Hence, plotted in a plan, our \"indifference curves\" (i.e., the curves such that the loss function is equal to a given value) would look like elliptical contours - see figure below, in red. Without regularization, our optimum would be located at the center of the ellipse.\n",
    "\n",
    "What happens when we add a regularization term? We transform our minimization problem. Mathematically, adding the regularization term is equivalent to adding a constraint on the weights:\n",
    "- LASSO: $|w_1| + |w_2| \\leq t$\n",
    "- Ridge: $w_1^2 + w_2^2 \\leq t$\n",
    "\n",
    "Graphically, LASSO constraint looks like a diamond (cyan) while Ridge constraint is a disk (green). \n",
    "\n",
    "When we relaxed the constraints, the constrained regions (diamond and disk) get bigger, and can eventually hit the center of the ellipse. In such case, the optimum weights are the one obtained without regularization.\n",
    "\n",
    "Otherwise, the optimum weights are obtained at the intersection of the elliptical contours and of the constrained regions. With LASSO, this intersection will happen at one of the corners of the diamond, i.e., when one of the weight is equal to zero. With Ridge, the intersection will happen at one point of the circle: while the values of the weights are shrunk, they will (almost) never be exactly zero.\n",
    "\n",
    "<img src='https://miro.medium.com/v2/resize:fit:1400/format:webp/1*Jd03Hyt2bpEv1r7UijLlpg.png' width=\"600\">\n",
    "\n",
    "Source: [Ridge and Lasso Regression: L1 and L2 Regularization](https://towardsdatascience.com/ridge-and-lasso-regression-a-complete-guide-with-python-scikit-learn-e20e34bcbf0b), Saptashwa Bhattacharyya, Towards Data Science"
   ]
  },
  {
   "cell_type": "markdown",
   "id": "93156a60-d070-4bc1-a9d7-dfe574c1dacd",
   "metadata": {},
   "source": [
    "### Solving our model: learning parameters via gradient descent\n",
    "\n",
    "To find the solution of our problem, we use numerical optimization: we search the minimum by iteration. Recall the optimization problem we want to solve: minimize the prediction errors (loss function), with a constraint on our parameters (regularization function). \n",
    "\n",
    "$$ \\min_\\theta L(\\boldsymbol{y}, \\boldsymbol{X}, \\boldsymbol{w}) + \\lambda R(\\boldsymbol{w}) $$\n",
    "\n",
    "We call $J$ our objective function (also called cost function) $J:= L + \\lambda R$\n",
    "\n",
    "One possible numerical method to solve this problem is the [gradient descent](https://en.wikipedia.org/wiki/Gradient_descent). It is an optimization algorithm with iterative updating rule:\n",
    "\n",
    "0. We first start with an initial value $\\boldsymbol{w^0}=(w^0_0, w^0_1,...,w^0_d)$, selected at random or a best guess\n",
    "1. We update our parameters: $\\boldsymbol{w^{k+1}}=\\boldsymbol{w^{k}}+ \\gamma \\nabla (J[\\boldsymbol{w^{k}}])$\n",
    "    - $\\gamma$ is the learning rate\n",
    "    - $\\nabla (J[\\boldsymbol{w^{k}}])$ is the gradient, i.e., the derivatives of $J$ with respect to $w_0$, $w_1$, ..., $w_d$; and evaluated at $\\boldsymbol{w^{k}}$\n",
    "2. We continue until a given convergence criteria is obtained (fixed point)\n",
    "\n",
    "There are many other methods, but they often consist in tweaking the updating rule."
   ]
  },
  {
   "attachments": {
    "47880f08-6dc1-4cd1-a34e-1c63cd132987.jpg": {
     "image/jpeg": "[encoded data removed]"
    }
   },
   "cell_type": "markdown",
   "id": "3b6733c5-c0b8-4532-b11a-33525593d3e7",
   "metadata": {},
   "source": [
    "<img src='attachment:47880f08-6dc1-4cd1-a34e-1c63cd132987.jpg' width=\"400\">\n",
    "    \n",
    "\n",
    "Source: Saugat Bhattarai, [What is Gradient Descent in Machine Learning?](https://saugatbhattarai.com.np&#47what-is-gradient-descent-in-machine-learning)"
   ]
  },
  {
   "cell_type": "markdown",
   "id": "ce878d70-296b-4ce2-9a05-a5d0410d79e1",
   "metadata": {},
   "source": [
    "## Implementation\n",
    "\n",
    "In python, a useful library exists to apply regression and other Machine Learning and statisticals tools over the data. It is the so called **sklearn**. Here is the [documentation](https://scikit-learn.org/stable/index.html). Check that you have the library installed - it is called \"scikit-learn\", else install it ([Installation guide](https://scikit-learn.org/stable/install.html)).\n",
    "\n",
    "We will use sklearn to implement various regression techniques, including the one discussed above: simple (univariate) linear regression, multivariate linear regression, polynomial linear regression, lasso, ridge, scaling, encoding, cross-validation.\n",
    "\n",
    "**Remember, you train your model (learn parameters) using your training set, and then test the\n",
    "prediction error on the test set.** \n",
    "\n",
    "Hence, after loading and cleaning our dataset, we will follow these steps:\n",
    "1. Preprocessing: split our dataset between training set (80% of observations) and test set (20% of observations), scaling, encoding\n",
    "2. Create and fit our model, i.e., learn the parameters using the training set\n",
    "3. Predict new observations and evaluate our model using the test set\n",
    "\n",
    "Ok, let's go!"
   ]
  },
  {
   "cell_type": "markdown",
   "id": "408ec895-7ade-45c9-a8c2-dd284e5a9715",
   "metadata": {},
   "source": [
    "### Load and discover the dataset\n",
    "\n",
    "In this section, we will use the weather dataset, which contains weather data e.g., temperature, wind speed, humidity, rain in Canberra between November 2007 and October 2008. Let's load and explore our dataset. The file is available in the git repository."
   ]
  },
  {
   "cell_type": "code",
   "execution_count": null,
   "id": "0c288953-a267-4f5c-9271-40079cb5fea5",
   "metadata": {},
   "outputs": [],
   "source": [
    "#Load the dataset\n",
    "url = \"https://raw.githubusercontent.com/michalis0/MGT-502-Data-Science-and-Machine-Learning/main/data/weather.csv\"\n",
    "weather = pd.read_csv(url).drop_duplicates().dropna() # drop duplicates and NaN values\n",
    "\n",
    "# Display a sample of the data\n",
    "display(weather.head())\n",
    "\n",
    "#Print the data types\n",
    "print(weather.dtypes)"
   ]
  },
  {
   "cell_type": "markdown",
   "id": "6e2217a0-fa78-447c-9b7d-c893f842bdf2",
   "metadata": {},
   "source": [
    "Note that the dataset contains numerical variables (e.g., temperature, rainfall, humidity, pressure) and categorial variables (e.g., wind direction). In addition, we have weather data at 9am and 3pm. We will only work with values concerning 3pm for simplicity. Let's get some summary statistics:"
   ]
  },
  {
   "cell_type": "code",
   "execution_count": null,
   "id": "1ef3b2d4-ef9c-4254-a730-ebcde33acf0e",
   "metadata": {},
   "outputs": [],
   "source": [
    "# Select features of interest\n",
    "weather3pm = weather.loc[:,['Temp3pm','Humidity3pm', 'Cloud3pm', 'Pressure3pm', 'WindSpeed3pm', 'WindDir3pm', 'Sunshine', 'Rainfall']]\n",
    "\n",
    "# Summary statistics\n",
    "display(weather3pm.describe())\n",
    "\n",
    "# Correlation matrix\n",
    "display(weather3pm.corr())"
   ]
  },
  {
   "cell_type": "markdown",
   "id": "fd5d4f07-25df-4901-9e7b-8da09078035c",
   "metadata": {},
   "source": [
    "### Linear regression\n",
    "\n",
    "We will first implement a simple (univariate) linear regression. Our goal in this section will be to try to predict the temperature given the level of humidity:\n",
    "\n",
    "$$Temperature_i = w_0 + w_1 Humidity_i + \\epsilon_i$$\n"
   ]
  },
  {
   "cell_type": "code",
   "execution_count": null,
   "id": "e10968c4-2605-46df-a4df-66695f98639c",
   "metadata": {},
   "outputs": [],
   "source": [
    "X = weather3pm[['Humidity3pm']]\n",
    "y = weather3pm[['Temp3pm']]"
   ]
  },
  {
   "cell_type": "markdown",
   "id": "2da1d609-f411-4205-9026-f452795d8dac",
   "metadata": {},
   "source": [
    "#### Splitting the dataset <a id='linear-split'></a>"
   ]
  },
  {
   "cell_type": "markdown",
   "id": "2e022dc7-61eb-41cd-b112-8f099274231c",
   "metadata": {},
   "source": [
    "Sklearn has a very useful module to separate your dataset in a training and in a testing set called `train_test_split` ([Documentation](https://scikit-learn.org/stable/modules/generated/sklearn.model_selection.train_test_split.html)). Here is how to import it (already done at the beginning of the notebook)\n",
    "\n",
    "```python\n",
    "from sklearn.model_selection import train_test_split \n",
    "```\n",
    "\n",
    "The training set will be used to retrieve the best values of the weights $w_0$ and $w_1$ according to a combination of input (humidity) and output (temperature) observations. The test set will be used to evaluate/predict our model. Since our model will be trained on particular values we want to test our data on a new set of data (the test set).\n",
    "\n",
    "The test size here is of 20% of the original data."
   ]
  },
  {
   "cell_type": "code",
   "execution_count": null,
   "id": "f7023d68-1d77-455b-a56f-06e9b1d1f83d",
   "metadata": {},
   "outputs": [],
   "source": [
    "X_train, X_test, y_train, y_test = train_test_split(X, y, test_size=0.2, random_state=0, shuffle=True)"
   ]
  },
  {
   "cell_type": "markdown",
   "id": "e3035add-c9a3-4b13-b98a-dad8d6981a3a",
   "metadata": {},
   "source": [
    "Notice the syntax: as arguments we provide our matrix of features (here, 'Humidity3pm' vector), our outcome vector (here, 'Temp3pm), the size of the test set (20%). We also shuffle the data before splitting to avoid potential bias, and we control how this shuffling is applied by providing a random state, in order to obtain reproducible output across multiple function calls."
   ]
  },
  {
   "cell_type": "markdown",
   "id": "4f0a1b43-4e06-4b70-8a83-c5e58d99e2d7",
   "metadata": {},
   "source": [
    "#### Create and Fit model <a id='linear-train'></a>\n",
    "\n",
    "To predict the output variable we will use a simple linear regression, the module is called `LinearRegression` ([Documentation](https://scikit-learn.org/stable/modules/generated/sklearn.linear_model.LinearRegression.html#sklearn.linear_model.LinearRegression)). Here is the import line:\n",
    "\n",
    "```python\n",
    "from sklearn.linear_model import LinearRegression\n",
    "```\n",
    "We follow three steps:\n",
    "1. Create a new `LinearRegression` model from sklearn\n",
    "2. Fill the linear model from the X_train (feature) and the y_train data (target) using the `fit()` function\n",
    "3. Check the model accuracy using the `score()` function, which returns the coefficient of determination $R^2$ of the prediction. The best possible score is 1 and it can be negative (because the model can be arbitrarily worse). A constant model that always predicts the expected value of y, disregarding the input features, would get a $R^2$ score of 0."
   ]
  },
  {
   "cell_type": "code",
   "execution_count": null,
   "id": "6e909b23-c4db-408d-8bd9-3267b8281632",
   "metadata": {},
   "outputs": [],
   "source": [
    "# There are three steps to model something with sklearn\n",
    "# 1. Set up the model\n",
    "model = LinearRegression(fit_intercept= True)\n",
    "# 2. Use fit\n",
    "model.fit(X_train, y_train)\n",
    "# 3. Check the score/accuracy\n",
    "print(\"R\\u00b2 Score of the model: \", round(model.score(X_train, y_train), 3))"
   ]
  },
  {
   "cell_type": "markdown",
   "id": "7e935629-c646-44e6-8491-ecbf664b8e75",
   "metadata": {},
   "source": [
    "After fitting the model, we can easily retrieve the values of the different weights coefficients (the intercept, and the weight of each feature):"
   ]
  },
  {
   "cell_type": "code",
   "execution_count": null,
   "id": "a615f08f-a1b1-40df-b897-d2e01edc9b6e",
   "metadata": {},
   "outputs": [],
   "source": [
    "print(\"Intercept: \", model.intercept_[0]) \n",
    "print(\"Features coefficients (weigths): \", model.coef_.flatten()[0])"
   ]
  },
  {
   "cell_type": "markdown",
   "id": "9e0847dc-82aa-4ffd-b3fb-1cc8d076c69f",
   "metadata": {},
   "source": [
    "The intercept corresponds to the value of $w_0$. There is only one coefficient,  $w_1$ linked to the humidity feature. Since we have only one value for intercept and coefficients represented as arrays, we apply `flatten()` and `[0]`."
   ]
  },
  {
   "cell_type": "markdown",
   "id": "0dc6921d-d075-4f8c-9ef8-e7ebdb150513",
   "metadata": {},
   "source": [
    "#### Prediction and Evaluation <a id='linear-test'></a>"
   ]
  },
  {
   "cell_type": "markdown",
   "id": "d9ccce46-92c5-4a27-8c76-1a19582d77a9",
   "metadata": {},
   "source": [
    "Once the model is trained, we can use the `predict()` function to predict the values of the test set using `X_test`. This prediction can be compared to the truth value, i.e., `y_test`. Let's try with one value of the test set. Note that our model takes a matrix as inputs (X matrix), so even if we want to predict a scalar value we should use `[[...]]`."
   ]
  },
  {
   "cell_type": "code",
   "execution_count": null,
   "id": "128dbb23-825b-415d-adff-0498b84b3f68",
   "metadata": {},
   "outputs": [],
   "source": [
    "humidity_test = X_test.iloc[0].values[0]\n",
    "temperature_predicted = model.predict([[humidity_test]]).flatten()[0]\n",
    "temperature_test = y_test.iloc[0].values[0]\n",
    "print(f\"Prediction/observed temperature for humidity {humidity_test}: {temperature_predicted:.1f}°C vs {temperature_test}°C\")"
   ]
  },
  {
   "cell_type": "markdown",
   "id": "c2af149f-9cf2-45a1-9b15-279ecf50ef0a",
   "metadata": {},
   "source": [
    "To better understand how the prediction and actual values differ, we can plot the predictions (line) and the true values from the test set (dots). It is more interesting to predict from the test set because our model is not trained on these values unlike the train set."
   ]
  },
  {
   "cell_type": "code",
   "execution_count": null,
   "id": "9d637373-0311-4c2f-a57d-447880d667b0",
   "metadata": {},
   "outputs": [],
   "source": [
    "#Model prediction from X_test\n",
    "predictions = model.predict(X_test)"
   ]
  },
  {
   "cell_type": "code",
   "execution_count": null,
   "id": "3f7f3b64-b184-464d-9ce2-7ff5660696bf",
   "metadata": {},
   "outputs": [],
   "source": [
    "# Plot the prediction (the line) over the true value (the dots)\n",
    "plt.scatter(X_test, y_test)\n",
    "plt.plot(X_test, predictions, 'r')\n",
    "plt.title(\"Humidity level against temperature\")\n",
    "plt.xlabel('Humidity level')\n",
    "plt.ylabel('Temperature °C')\n",
    "plt.show()"
   ]
  },
  {
   "cell_type": "markdown",
   "id": "7a390f16-263a-4fcc-a73d-ad784df0e15f",
   "metadata": {},
   "source": [
    "We can compare the error of our model by using some metrics like the **MAE (mean absolute error)**, **MSE (mean squared error)** or **coefficient of determination $R^2$** score. Sklearn offers some nice modules to compute these measures ([MAE](https://scikit-learn.org/stable/modules/generated/sklearn.metrics.mean_absolute_error.html#sklearn.metrics.mean_absolute_error), [MSE](https://scikit-learn.org/stable/modules/generated/sklearn.metrics.mean_squared_error.html#sklearn.metrics.mean_squared_error), [$R^2$](https://scikit-learn.org/stable/modules/generated/sklearn.metrics.r2_score.html#sklearn.metrics.r2_score)).\n",
    "Here is the import line:\n",
    "\n",
    "```python\n",
    "from sklearn.metrics import mean_squared_error, mean_absolute_error, r2_score\n",
    "```\n",
    "\n",
    "These metrics takes the `y_test` values and the `predictions` as arguments. Basically it will analyse how far the prediction is from the true value. Using these metrics is very helpful when comparing the performance of model."
   ]
  },
  {
   "cell_type": "code",
   "execution_count": null,
   "id": "0b9d60e8-8d03-422b-af93-ed637627c00c",
   "metadata": {
    "tags": []
   },
   "outputs": [],
   "source": [
    "# Compute the MAE, the MSE and the R^2\n",
    "mae = mean_absolute_error(y_test, predictions)\n",
    "mse = mean_squared_error(y_test, predictions)\n",
    "r2 = r2_score(y_test, predictions)\n",
    "\n",
    "print(f\"MAE: {mae:0.2f}\")\n",
    "print(f\"MSE: {mse:0.2f}\")\n",
    "print(f\"R\\u00b2: {r2:0.2f} \" )"
   ]
  },
  {
   "cell_type": "markdown",
   "id": "1de879df-bec6-44fd-972b-a918a0edd6f2",
   "metadata": {},
   "source": [
    "It is also interesting to compare the results of these metrics between the data from the *test set* and those from the *train set* to see whether our model generalizes well:"
   ]
  },
  {
   "cell_type": "code",
   "execution_count": null,
   "id": "ae9a003d-89f5-43d9-ae48-b3a5a49e0683",
   "metadata": {},
   "outputs": [],
   "source": [
    "predictions_train = model.predict(X_train)\n",
    "mae_train = mean_absolute_error(y_train, predictions_train)\n",
    "mse_train = mean_squared_error(y_train, predictions_train)\n",
    "r2_train = r2_score(y_train, predictions_train)\n",
    "\n",
    "\n",
    "print(f\"MAE test set: {mae:0.2f}; MAE train set: {mae_train:0.2f};\")\n",
    "print(f\"MSE test set: {mse:0.2f}; MSE train set: {mse_train:0.2f};\")\n",
    "print(f\"R\\u00b2 test set: {r2:0.2f}; R\\u00b2 train set: {r2_train:0.2f};\" )"
   ]
  },
  {
   "cell_type": "markdown",
   "id": "129db0b0-bb62-49f7-abbc-fb7c784c35b7",
   "metadata": {},
   "source": [
    "Remember, the higher the $R^2$ value, the better the fit. In this case, the testing data yields a higher coefficient as well as lower mean absolute and mean squared errors. While it might seem a bit counterintuitive, one possible explanation lies in the observations selected when we split our dataset into training/test set. One remedy would be to rely on cross validation."
   ]
  },
  {
   "cell_type": "markdown",
   "id": "13b24342-de96-4c76-bffb-7ee7be91495f",
   "metadata": {},
   "source": [
    "### Multivariate linear regression"
   ]
  },
  {
   "cell_type": "markdown",
   "id": "473bce73-3a6d-446f-a951-17de9e8d5c67",
   "metadata": {},
   "source": [
    "We will now apply the same method to several features, namely, humidity, pressure, wind speed, wind direction, sunshine, rainfall, and cloud data to predict the temperature, still at 3pm."
   ]
  },
  {
   "cell_type": "code",
   "execution_count": null,
   "id": "816effc4-c997-441d-8234-59408fe79fe4",
   "metadata": {},
   "outputs": [],
   "source": [
    "X = weather[['Humidity3pm', 'Cloud3pm', 'Pressure3pm', 'WindSpeed3pm', 'WindDir3pm', 'Sunshine', 'Rainfall']] \n",
    "y = weather[['Temp3pm']]"
   ]
  },
  {
   "cell_type": "markdown",
   "id": "77ab2d22-ae5a-48c7-96fd-1c5ee2182f1e",
   "metadata": {},
   "source": [
    "#### Splitting dataset <a id='multivariate-split'></a>"
   ]
  },
  {
   "cell_type": "markdown",
   "id": "f9757fd7-ad04-4812-a2b5-bacc06d19bd5",
   "metadata": {},
   "source": [
    "We apply the same procedure as before:"
   ]
  },
  {
   "cell_type": "code",
   "execution_count": null,
   "id": "ff29ea2d-ef2e-4065-9d71-d36db8ae966e",
   "metadata": {},
   "outputs": [],
   "source": [
    "X_train, X_test, y_train, y_test = train_test_split(X, y, test_size=0.2, random_state=0, shuffle=True)"
   ]
  },
  {
   "cell_type": "markdown",
   "id": "6b946fce-a5c5-483b-babe-5cbd2c27be3b",
   "metadata": {},
   "source": [
    "#### Preprocessing: encoding categorical variables\n",
    "\n",
    "The feature 'WindDir3pm' is a categorical variable. To use it in our model, we need to encode it. Here, we will use a label encoding, using the sklearn module `LabelEncoder`. As an alternative, we could use 1-hot encoding, with the sklearn module `OneHotEncoder`. Here are the import lines:\n",
    "\n",
    "```python\n",
    "from sklearn.preprocessing import LabelEncoder \n",
    "from sklearn.preprocessing import OneHotEncoder \n",
    "```\n",
    "\n",
    "**Note:** You should encore your data after splitting the dataset to avoid data leakage (train-test contamination), first transforming the training set and then the test set based on the encoding maps from train data."
   ]
  },
  {
   "cell_type": "code",
   "execution_count": null,
   "id": "db9483ee-4279-4d8e-81fd-8b24cb418174",
   "metadata": {
    "tags": []
   },
   "outputs": [],
   "source": [
    "print(X_train[['WindDir3pm']])\n",
    "# Extract the column of interest\n",
    "wind_dir_3pm = X_train[['WindDir3pm']].values.ravel()\n",
    "wind_dir_3pm_test = X_test[['WindDir3pm']].values.ravel()\n",
    "#Define the encoder\n",
    "le = LabelEncoder()\n",
    "#Fit the encoder\n",
    "le.fit(wind_dir_3pm)\n",
    "#Transform the train and the test set\n",
    "X_train = X_train.assign(WindDir3pm=le.transform(wind_dir_3pm))\n",
    "X_test = X_test.assign(WindDir3pm=le.transform(wind_dir_3pm_test))\n",
    "print(X_train[['WindDir3pm']])"
   ]
  },
  {
   "cell_type": "markdown",
   "id": "57ffb331-7ce5-48ba-8e5a-c24d6bac380b",
   "metadata": {},
   "source": [
    "#### Rescaling\n",
    "\n",
    "Next, we rescale our data.\n",
    "\n",
    "**Note:** Generally you should normalize the data right after splitting the dataset. The normalization is important here to reduce the variance of our model and get better results.\n",
    "\n",
    "We can use the sklearn `MinMaxScaler` module to normalize the data. This estimator scales and translates each feature individually such that it is in the given range on the training set, e.g. between zero and one. Here is the import line:\n",
    "\n",
    "```python\n",
    "from sklearn.preprocessing import MinMaxScaler\n",
    "```"
   ]
  },
  {
   "cell_type": "code",
   "execution_count": null,
   "id": "5ae1dd0d-936d-4e7c-a3c5-2463fde05582",
   "metadata": {},
   "outputs": [],
   "source": [
    "#Define the scaler\n",
    "scaler = MinMaxScaler()\n",
    "#Fit the scaler\n",
    "scaler.fit(X_train)\n",
    "#Transform the train and the test set\n",
    "X_train = scaler.transform(X_train)\n",
    "X_test = scaler.transform(X_test)\n",
    "\n",
    "## Note that these two steps can be merged into one (only for the train set)\n",
    "# X_train = scaler.fit_transform(X_train)\n",
    "# X_test = scaler.transform(X_test)"
   ]
  },
  {
   "cell_type": "markdown",
   "id": "661fd9a2-9b49-409d-883a-4f8a67d9bcc6",
   "metadata": {},
   "source": [
    "#### Create and Fit model <a id='multivariate-train'></a>\n",
    "\n",
    "We follow the same steps as before:"
   ]
  },
  {
   "cell_type": "code",
   "execution_count": null,
   "id": "a4701ab3-91c8-4219-bd3e-4dbf2dabe463",
   "metadata": {},
   "outputs": [],
   "source": [
    "# 1. Set up the model\n",
    "model = LinearRegression()\n",
    "# 2. Use fit\n",
    "model.fit(X_train, y_train)\n",
    "# 3. Check the score/accuracy\n",
    "print(\"R\\u00b2 Score of the model: \", round(model.score(X_train, y_train), 3))\n",
    "# 4. Print the coefficients of the linear model\n",
    "print(\"Intercept: \", model.intercept_[0]) \n",
    "model_coeff = pd.DataFrame(model.coef_.flatten(), \n",
    "                     index=['Humidity3pm', 'Cloud3pm', 'Pressure3pm', 'WindSpeed3pm', 'WindDir3pm', 'Sunshine', 'Rainfall'],\n",
    "                     columns=['Coefficients multivariate model'])\n",
    "model_coeff # Get the coefficients, w"
   ]
  },
  {
   "cell_type": "markdown",
   "id": "8a4f3195-df05-4e44-bcf5-a48798290afc",
   "metadata": {},
   "source": [
    "The coefficient values inform us about the relative importance of each feature for our prediction."
   ]
  },
  {
   "cell_type": "markdown",
   "id": "5f84a99e-91e9-404f-9530-e2815863c9a1",
   "metadata": {},
   "source": [
    "#### Prediction and evaluation <a id='multivariate-test'></a>"
   ]
  },
  {
   "cell_type": "markdown",
   "id": "7ca48e7b-b5e6-41b9-994e-fc7473178231",
   "metadata": {},
   "source": [
    "Finally, we evaluate our model performance following the same procedure as before:"
   ]
  },
  {
   "cell_type": "code",
   "execution_count": null,
   "id": "2b808dfe-3938-4776-b3f0-ba1158639bca",
   "metadata": {},
   "outputs": [],
   "source": [
    "# Predict:\n",
    "predictions = model.predict(X_test)\n",
    "\n",
    "# Compute the MAE, the MSE and the R^2 on the test set\n",
    "mae = mean_absolute_error(y_test, predictions)\n",
    "mse = mean_squared_error(y_test, predictions)\n",
    "r2 = r2_score(y_test, predictions)\n",
    "\n",
    "# Compute the MAE, the MSE and the R^2 on the training set\n",
    "predictions_train = model.predict(X_train)\n",
    "mae_train = mean_absolute_error(y_train, predictions_train)\n",
    "mse_train = mean_squared_error(y_train, predictions_train)\n",
    "r2_train = r2_score(y_train, predictions_train)\n",
    "\n",
    "print(f\"MAE test set: {mae:0.2f}; MAE training set: {mae_train:0.2f};\")\n",
    "print(f\"MSE test set: {mse:0.2f}; MSE training set: {mse_train:0.2f};\")\n",
    "print(f\"R\\u00b2 test set: {r2:0.2f}; R\\u00b2 training set: {r2_train:0.2f};\" )"
   ]
  },
  {
   "cell_type": "markdown",
   "id": "bae2b3d5-e92a-4f9b-858e-3b445b42da0c",
   "metadata": {},
   "source": [
    "The mean absolute error and mean squared error in our multivariate analysis are lower than in the univariate case: as expected, adding more complexity (features) seemed to have improved our prediction.\n",
    "\n",
    "Note that you should not use the $R^2$ to compare several models since the indicator is sensitive to the number of features. Instead, you can for instance use the [Adjusted $R^2$](https://en.wikipedia.org/wiki/Coefficient_of_determination#Adjusted_R2)."
   ]
  },
  {
   "cell_type": "markdown",
   "id": "507f9093-8d25-4100-aefd-028a591d7892",
   "metadata": {},
   "source": [
    "### Polynomial linear regression"
   ]
  },
  {
   "cell_type": "markdown",
   "id": "b860983d-4ab8-4539-987e-7389c2ee1fdd",
   "metadata": {},
   "source": [
    "Using polynomial regression enables you to predict the best fit line that follows the pattern (curve) of the data. It tends to increase the performance of the model. We are using the module  `PolynomialFeatures` to preprocess our data ([Documentation](https://scikit-learn.org/stable/modules/generated/sklearn.preprocessing.PolynomialFeatures.html)):\n",
    "\n",
    "```python\n",
    "from sklearn.preprocessing import PolynomialFeatures \n",
    "```\n",
    "\n",
    "The function `PolynomialFeatures` generates a new feature matrix consisting of all polynomial combinations of the features with degree less than or equal to the specified degree. "
   ]
  },
  {
   "cell_type": "code",
   "execution_count": null,
   "id": "f57bad78-09db-4851-bca7-aed019401b99",
   "metadata": {},
   "outputs": [],
   "source": [
    "# We will use a degree 2\n",
    "poly = PolynomialFeatures(2)\n",
    "# Transform our training and test set\n",
    "X_train_poly = poly.fit_transform(X_train)\n",
    "X_test_poly = poly.transform(X_test)\n",
    "# Feature name:\n",
    "X_poly_features = poly.get_feature_names(['Humidity3pm', 'Cloud3pm', 'Pressure3pm', 'WindSpeed3pm', 'WindDir3pm', 'Sunshine', 'Rainfall'])\n",
    "print(X_poly_features)"
   ]
  },
  {
   "cell_type": "markdown",
   "id": "2d9ff39b-d50d-4352-bf2e-eeebcb849cd8",
   "metadata": {},
   "source": [
    "Now we proceed as before, performing a linear regression:"
   ]
  },
  {
   "cell_type": "code",
   "execution_count": null,
   "id": "5c7620c4-27ef-46d0-b3fc-a43d3683c911",
   "metadata": {},
   "outputs": [],
   "source": [
    "# Set up the model\n",
    "model_poly = LinearRegression(fit_intercept=False) # we don't need fit intercept since polynomial features function add a column of ones to the data \n",
    "\n",
    "# Fit\n",
    "model_poly.fit(X_train_poly, y_train)\n",
    "\n",
    "# Check the score/accuracy\n",
    "print(\"R\\u00b2 Score of the model: \", round(model_poly.score(X_train_poly, y_train), 3))\n",
    "\n",
    "# Print the coefficients of the linear model\n",
    "model_coeff = pd.DataFrame(model_poly.coef_.flatten(), \n",
    "                     index=X_poly_features,\n",
    "                     columns=['Coefficients polynomial model'])\n",
    "model_coeff # Get the coefficients, w"
   ]
  },
  {
   "cell_type": "markdown",
   "id": "06aa43f9-24d2-4240-a70c-56dd980360e0",
   "metadata": {},
   "source": [
    "Finally, we evaluate the performance of our model:"
   ]
  },
  {
   "cell_type": "code",
   "execution_count": null,
   "id": "0ed5f470-252b-4dbd-8923-b3f385ce2014",
   "metadata": {},
   "outputs": [],
   "source": [
    "# Predict:\n",
    "predictions = model_poly.predict(X_test_poly)\n",
    "\n",
    "# Compute the MAE, the MSE and the R^2 on the test set\n",
    "mae = mean_absolute_error(y_test, predictions)\n",
    "mse = mean_squared_error(y_test, predictions)\n",
    "r2 = r2_score(y_test, predictions)\n",
    "\n",
    "# Compute the MAE, the MSE and the R^2 on the training set\n",
    "predictions_train = model_poly.predict(X_train_poly)\n",
    "mae_train = mean_absolute_error(y_train, predictions_train)\n",
    "mse_train = mean_squared_error(y_train, predictions_train)\n",
    "r2_train = r2_score(y_train, predictions_train)\n",
    "\n",
    "print(f\"MAE test set: {mae:0.2f}; MAE training set: {mae_train:0.2f};\")\n",
    "print(f\"MSE test set: {mse:0.2f}; MSE training set: {mse_train:0.2f};\")\n",
    "print(f\"R\\u00b2 test set: {r2:0.2f}; R\\u00b2 training set: {r2_train:0.2f};\" )"
   ]
  },
  {
   "cell_type": "markdown",
   "id": "a8eef147-4cf8-409b-87b4-ce94ff5b32a3",
   "metadata": {},
   "source": [
    "The mean absolute and mean square errors on the test set decreased. \n",
    "\n",
    "However, beware, adding too many features may cause overfitting. Remember that overfitting is is the tendency of data mining procedures to tailor models to the training data, at the expense of generalization to previously unseen data points. \n",
    "\n",
    "For instance, if we were to use polynomial features with a degree 3, the mean absolute and mean square errors on the training set would decrease, but the errors on the test set would dramatically increase - and the $R^2$ on the test set would even be negative. Try it!\n",
    "\n",
    "To avoid such issue, we can implement some regularization techniques."
   ]
  },
  {
   "cell_type": "markdown",
   "id": "4b479c69-6f18-47c0-b5e0-d21faf02f5f7",
   "metadata": {},
   "source": [
    "### Regularization <a id='implement-regul'></a>\n",
    "\n",
    "We will now implement some regularization techniques discussed above, in combination of our previous polynomial linear regression."
   ]
  },
  {
   "cell_type": "markdown",
   "id": "37aa6718-2463-4e2c-bc2a-e644fd158012",
   "metadata": {},
   "source": [
    "#### Lasso"
   ]
  },
  {
   "cell_type": "markdown",
   "id": "c5d8e0cf-3bfa-4cc6-bbff-988e3da32a1c",
   "metadata": {},
   "source": [
    "We can use the sklearn `Lasso` module to implement a Lasso regularization ([Documentation](https://scikit-learn.org/stable/modules/generated/sklearn.linear_model.Lasso.html)). Here is the import line:\n",
    "\n",
    "```python\n",
    "from sklearn.linear_model import Lasso\n",
    "```\n",
    "\n",
    "The procedure is the same as before. Since we already split our dataset and preprocessed our training and test sets, we can create the model, fit it, and then evaluate its performance.\n",
    "\n",
    "When creating the model, we can specify the penalty term, `alpha` as an argument of `Lasso()`:"
   ]
  },
  {
   "cell_type": "code",
   "execution_count": null,
   "id": "74d447bb-2150-4566-80c6-64c4088d1316",
   "metadata": {},
   "outputs": [],
   "source": [
    "# Set up the model\n",
    "lasso_model = Lasso(alpha=0.2, fit_intercept=False)\n",
    "\n",
    "# Use fit\n",
    "lasso_model.fit(X_train_poly, y_train)\n",
    "\n",
    "# Check the score/accuracy\n",
    "print(\"R\\u00b2 Score of the model: \", round(lasso_model.score(X_train_poly, y_train), 3))\n",
    "\n",
    "# Print the coefficients of the linear model\n",
    "model_coeff = pd.DataFrame(lasso_model.coef_.flatten(), \n",
    "                     index=X_poly_features,\n",
    "                     columns=['Coefficients Lasso model'])\n",
    "model_coeff "
   ]
  },
  {
   "cell_type": "markdown",
   "id": "09736396-e3d2-4189-a95d-a33887c61561",
   "metadata": {},
   "source": [
    "Notice the weights? Most of them were forced to zero, meaning our model will not use the corresponding features for its prediction. The intuition here is that the corresponding features hadn’t provided enough predictive power to be worth considering alongside the other features.\n",
    "\n",
    "Let's keep going with the evaluation of the model:"
   ]
  },
  {
   "cell_type": "code",
   "execution_count": null,
   "id": "7b295bbe-1f23-4e72-9366-d11da3c02983",
   "metadata": {},
   "outputs": [],
   "source": [
    "# Predict:\n",
    "predictions = lasso_model.predict(X_test_poly)\n",
    "\n",
    "# Compute the MAE, the MSE and the R^2 on the test set\n",
    "mae_lasso = mean_absolute_error(y_test, predictions)\n",
    "mse_lasso = mean_squared_error(y_test, predictions)\n",
    "r2_lasso = r2_score(y_test, predictions)\n",
    "\n",
    "# Compute the MAE, the MSE and the R^2 on the training set\n",
    "predictions_train = lasso_model.predict(X_train_poly)\n",
    "mae_train_lasso = mean_absolute_error(y_train, predictions_train)\n",
    "mse_train_lasso = mean_squared_error(y_train, predictions_train)\n",
    "r2_train_lasso = r2_score(y_train, predictions_train)\n",
    "\n",
    "print(f\"MAE test set: {mae_lasso:0.2f}; MAE training set: {mae_train_lasso:0.2f};\")\n",
    "print(f\"MSE test set: {mse_lasso:0.2f}; MSE training set: {mse_train_lasso:0.2f};\")\n",
    "print(f\"R\\u00b2 test set: {r2_lasso:0.2f}; R\\u00b2 training set: {r2_train_lasso:0.2f};\" )"
   ]
  },
  {
   "cell_type": "markdown",
   "id": "8a5aa6c3-d8a1-4b41-aff2-a526d4af5442",
   "metadata": {},
   "source": [
    "As a result of Lasso regularization, the MAE and MSE on the test set are increasing. Let's pursue our exploration with a Ridge regularization:"
   ]
  },
  {
   "cell_type": "markdown",
   "id": "2a84e5c3-1b82-4d58-8e2b-156eded59ab5",
   "metadata": {},
   "source": [
    "#### Ridge\n",
    "\n",
    "We can use the sklearn `Ridge` module to implement a Ridge regularization ([Documentation](https://scikit-learn.org/stable/modules/generated/sklearn.linear_model.Ridge.html)). Here is the import line:\n",
    "\n",
    "```python\n",
    "from sklearn.linear_model import Ridge\n",
    "```\n",
    "\n",
    "We proceed as before:"
   ]
  },
  {
   "cell_type": "code",
   "execution_count": null,
   "id": "5035aba2-dddc-442d-9022-4c891ab71ba4",
   "metadata": {},
   "outputs": [],
   "source": [
    "# Set up the model\n",
    "ridge_model = Ridge(alpha=1.0, fit_intercept=False)\n",
    "\n",
    "# Use fit\n",
    "ridge_model.fit(X_train_poly, y_train)\n",
    "\n",
    "# Check the score/accuracy\n",
    "print(\"R\\u00b2 Score of the model: \", round(ridge_model.score(X_train_poly, y_train), 3))\n",
    "\n",
    "# Print the coefficients of the linear model\n",
    "model_coeff = pd.DataFrame(ridge_model.coef_.flatten(),\n",
    "                     index=X_poly_features,\n",
    "                     columns=['Coefficients Ridge model'])\n",
    "model_coeff['Coefficients Lasso model']=lasso_model.coef_.flatten()\n",
    "model_coeff['Coefficients polynomial model']=model_poly.coef_.flatten()\n",
    "model_coeff "
   ]
  },
  {
   "cell_type": "markdown",
   "id": "71c80654-6691-489d-8ad2-c953a82b259d",
   "metadata": {},
   "source": [
    "Note how the coefficients with the Ridge regularization were shrinked, but not forced to zero as in the Lasso regularization. \n",
    "\n",
    "Let's evaluate our new model."
   ]
  },
  {
   "cell_type": "code",
   "execution_count": null,
   "id": "8cf0ae93-d287-4fe8-b8c1-726906cb2478",
   "metadata": {},
   "outputs": [],
   "source": [
    "# Predict:\n",
    "predictions = ridge_model.predict(X_test_poly)\n",
    "\n",
    "# Compute the MAE, the MSE and the R^2 on the test set\n",
    "mae_ridge = mean_absolute_error(y_test, predictions)\n",
    "mse_ridge = mean_squared_error(y_test, predictions)\n",
    "r2_ridge = r2_score(y_test, predictions)\n",
    "\n",
    "# Compute the MAE, the MSE and the R^2 on the training set\n",
    "predictions_train = ridge_model.predict(X_train_poly)\n",
    "mae_train_ridge = mean_absolute_error(y_train, predictions_train)\n",
    "mse_train_ridge = mean_squared_error(y_train, predictions_train)\n",
    "r2_train_ridge = r2_score(y_train, predictions_train)\n",
    "\n",
    "print(f\"MAE test set: {mae_ridge:0.2f}; MAE training set: {mae_train_ridge:0.2f};\")\n",
    "print(f\"MSE test set: {mse_ridge:0.2f}; MSE training set: {mse_train_ridge:0.2f};\")\n",
    "print(f\"R\\u00b2 test set: {r2_ridge:0.2f}; R\\u00b2 training set: {r2_train_ridge:0.2f};\" )"
   ]
  },
  {
   "cell_type": "markdown",
   "id": "1360b2cf-eef3-4181-89b4-cea2eacf331a",
   "metadata": {},
   "source": [
    "Let's visualize the MAE and MSE on the test data obtained in our different models:"
   ]
  },
  {
   "cell_type": "code",
   "execution_count": null,
   "id": "655d50d2-160d-4817-a61b-683685573552",
   "metadata": {},
   "outputs": [],
   "source": [
    "model_comparison = pd.DataFrame([mae, mse], index=['MAE', 'MSE'], columns=['Polynomial model'])\n",
    "model_comparison['LASSO']=[mae_lasso, mse_lasso]\n",
    "model_comparison['Ridge']=[mae_ridge, mse_ridge]\n",
    "model_comparison"
   ]
  },
  {
   "cell_type": "markdown",
   "id": "99ec3f28-58c3-4864-87aa-ea7061124289",
   "metadata": {},
   "source": [
    "The polynomial and Ridge models seem to perform similarly. \n",
    "\n",
    "However, note that the regularization parameter $\\alpha$ has a large impact on MAE and MSE in the test data. Moreover, the relationship between the test data MSE and $\\alpha$ is complicated and non-monotonic. Hence, one popular method for choosing the regularization parameter is cross-validation, which we will implement below."
   ]
  },
  {
   "cell_type": "markdown",
   "id": "c30e8907-031c-442e-b3ab-30dd7bda0fa0",
   "metadata": {},
   "source": [
    "### K-fold cross validation\n",
    "\n",
    "Roughly speaking, cross-validation splits the training dataset into many training/testing subsets, then chooses the regularization parameter value that minimizes the average MSE.\n",
    "\n",
    "More precisely, k-fold cross-validation does the following:\n",
    "\n",
    "1. Partition the dataset randomly into k subsets/”folds”.  \n",
    "2. Compute $MSE_j(\\alpha)=$ mean squared error in j-th subset when using the j-th subset as test data, and other k-1 as training data.  \n",
    "3. Minimize average (across folds) MSE $\\min_\\alpha \\frac{1}{k}\\sum_{j=1}^k MSE_j(\\alpha)$. \n",
    "\n",
    "<img src='https://scikit-learn.org/stable/_images/grid_search_cross_validation.png' width=\"500\">\n",
    "\n",
    "You can find a more detailed description of cross-validation [here](https://scikit-learn.org/stable/modules/cross_validation.html).\n",
    "\n",
    "We will implement cross validation in addition of our previous polynomial linear regression with ridge regularization. We are using the sklearn `RidgeCV` module ([Documentation](https://scikit-learn.org/stable/modules/generated/sklearn.linear_model.RidgeCV.html)). Here is the import line:\n",
    "\n",
    "```python\n",
    "from sklearn.linear_model import RidgeCV\n",
    "```\n",
    "\n",
    "In case, a similar module exists for Lasso regularization with cross-validation, namely `LassoCV` ([Documentation](https://scikit-learn.org/stable/modules/generated/sklearn.linear_model.LassoCV.html)).\n",
    "\n",
    "With the argument `cv`, we can specify the number of folds:"
   ]
  },
  {
   "cell_type": "code",
   "execution_count": null,
   "id": "13478841-33dc-4f1f-96d4-dc47a1b858af",
   "metadata": {},
   "outputs": [],
   "source": [
    "# Set up the model\n",
    "ridge_cv_model = RidgeCV(cv=5, fit_intercept=False)\n",
    "\n",
    "# Use fit\n",
    "ridge_cv_model.fit(X_train_poly, y_train)\n",
    "\n",
    "# Check the score/accuracy\n",
    "print(\"R\\u00b2 Score of the model: \", round(ridge_cv_model.score(X_train_poly, y_train), 3))\n",
    "\n",
    "# Print the coefficients of the linear model\n",
    "model_coeff['Coefficients Ridge-CV model']=ridge_cv_model.coef_.flatten()\n",
    "model_coeff "
   ]
  },
  {
   "cell_type": "markdown",
   "id": "8f8d4b7b-c366-4d40-85f9-d7d0a8115045",
   "metadata": {},
   "source": [
    "As always, let's evaluate our model:"
   ]
  },
  {
   "cell_type": "code",
   "execution_count": null,
   "id": "d1d775d4-bee0-4b00-8c3a-649bfddeb877",
   "metadata": {},
   "outputs": [],
   "source": [
    "# Predict:\n",
    "predictions = ridge_cv_model.predict(X_test_poly)\n",
    "\n",
    "# Compute the MAE, the MSE and the R^2 on the test set\n",
    "mae_ridge_cv = mean_absolute_error(y_test, predictions)\n",
    "mse_ridge_cv = mean_squared_error(y_test, predictions)\n",
    "r2_ridge_cv = r2_score(y_test, predictions)\n",
    "\n",
    "# Compute the MAE, the MSE and the R^2 on the training set\n",
    "predictions_train = ridge_cv_model.predict(X_train_poly)\n",
    "mae_train_ridge_cv = mean_absolute_error(y_train, predictions_train)\n",
    "mse_train_ridge_cv = mean_squared_error(y_train, predictions_train)\n",
    "r2_train_ridge_cv = r2_score(y_train, predictions_train)\n",
    "\n",
    "print(f\"MAE test set: {mae_ridge:0.2f}; MAE training set: {mae_train_ridge:0.2f};\")\n",
    "print(f\"MSE test set: {mse_ridge:0.2f}; MSE training set: {mse_train_ridge:0.2f};\")\n",
    "print(f\"R\\u00b2 test set: {r2_ridge:0.2f}; R\\u00b2 training set: {r2_train_ridge:0.2f};\" )"
   ]
  },
  {
   "cell_type": "markdown",
   "id": "028b7425-49bd-41d8-88f5-5d2f4bcf364e",
   "metadata": {},
   "source": [
    "Let's compare our model to the previous ones:"
   ]
  },
  {
   "cell_type": "code",
   "execution_count": null,
   "id": "79656074-a0e1-4a87-8f73-28bfa57a57d1",
   "metadata": {},
   "outputs": [],
   "source": [
    "model_comparison['Ridge with Cross Validation']=[mae_ridge_cv, mse_ridge_cv]\n",
    "model_comparison"
   ]
  },
  {
   "cell_type": "markdown",
   "id": "06a70331-8134-4189-85f9-880ef1bb1401",
   "metadata": {},
   "source": [
    "By optimizing the regularization parameter, the MAE and MSE decreased a little."
   ]
  },
  {
   "cell_type": "markdown",
   "id": "a8367747-4cbe-45e1-8003-b4ba277f2741",
   "metadata": {},
   "source": [
    "## Your turn\n"
   ]
  },
  {
   "cell_type": "markdown",
   "id": "c6f169d7-4221-4e1d-b62a-dae28963c139",
   "metadata": {},
   "source": [
    "Now it's your turn to play with ML algorithms! In this application, you will study the energy efficiency of buildings. More precisely, you will try to predict the heating loads of buildings based on the following features:\n",
    "- X1 Relative Compactness\n",
    "- X2 Surface Area\n",
    "- X3 Wall Area\n",
    "- X4 Roof Area\n",
    "- X5 Overall Height\n",
    "- X6 Orientation\n",
    "- X7 Glazing Area\n",
    "- X8 Glazing Area Distribution\n",
    "\n",
    "You will use the [Energy-Efficiency-Dataset](https://www.openml.org/search?type=data&status=active&id=43338), created by Angeliki Xifara, processed by Athanasios Tsanas, and made available on [OpenML](https://www.openml.org/), an open platform for sharing datasets, algorithms, and experiments.\n",
    "\n",
    "The format of the dataset is called \"arff\" (Attribute Relation File Format). You can open these files using the [Scipy](https://scipy.org/) library. To open such file from an URL, you will also need to import `urllib.request` and `io`. If everything is installed, you can run the following lines of code to obtain a dataframe:"
   ]
  },
  {
   "cell_type": "code",
   "execution_count": 3,
   "id": "fea817c8-e3db-42fd-a429-8804c19b528d",
   "metadata": {},
   "outputs": [],
   "source": [
    "url = 'https://raw.githubusercontent.com/michalis0/MGT-502-Data-Science-and-Machine-Learning/main/data/energy-efficiency.arff'\n",
    "ftpstream = urllib.request.urlopen(url)\n",
    "data = arff.loadarff(io.StringIO(ftpstream.read().decode('utf-8')))\n",
    "df = pd.DataFrame(data[0])"
   ]
  },
  {
   "cell_type": "markdown",
   "id": "6ea0a3ee-2fda-45e2-bfbe-98f601ad0671",
   "metadata": {},
   "source": [
    "**Discover your dataset**\n",
    "\n",
    "- Explore your dataset, displaying a few observations, the types of your data, some summary statistics, the correlation matrix. Feel free to push forward your EDA, for instance using some graphs"
   ]
  },
  {
   "cell_type": "code",
   "execution_count": 6,
   "id": "11c1303a-7a43-4bcc-a930-b91d16acf1af",
   "metadata": {},
   "outputs": [
    {
     "data": {
      "text/html": [
       "<div>\n",
       "<style scoped>\n",
       "    .dataframe tbody tr th:only-of-type {\n",
       "        vertical-align: middle;\n",
       "    }\n",
       "\n",
       "    .dataframe tbody tr th {\n",
       "        vertical-align: top;\n",
       "    }\n",
       "\n",
       "    .dataframe thead th {\n",
       "        text-align: right;\n",
       "    }\n",
       "</style>\n",
       "<table border=\"1\" class=\"dataframe\">\n",
       "  <thead>\n",
       "    <tr style=\"text-align: right;\">\n",
       "      <th></th>\n",
       "      <th>X1</th>\n",
       "      <th>X2</th>\n",
       "      <th>X3</th>\n",
       "      <th>X4</th>\n",
       "      <th>X5</th>\n",
       "      <th>X6</th>\n",
       "      <th>X7</th>\n",
       "      <th>X8</th>\n",
       "      <th>Y1</th>\n",
       "      <th>Y2</th>\n",
       "    </tr>\n",
       "  </thead>\n",
       "  <tbody>\n",
       "    <tr>\n",
       "      <th>0</th>\n",
       "      <td>0.98</td>\n",
       "      <td>514.5</td>\n",
       "      <td>294.0</td>\n",
       "      <td>110.25</td>\n",
       "      <td>7.0</td>\n",
       "      <td>2.0</td>\n",
       "      <td>0.0</td>\n",
       "      <td>0.0</td>\n",
       "      <td>15.55</td>\n",
       "      <td>21.33</td>\n",
       "    </tr>\n",
       "    <tr>\n",
       "      <th>1</th>\n",
       "      <td>0.98</td>\n",
       "      <td>514.5</td>\n",
       "      <td>294.0</td>\n",
       "      <td>110.25</td>\n",
       "      <td>7.0</td>\n",
       "      <td>3.0</td>\n",
       "      <td>0.0</td>\n",
       "      <td>0.0</td>\n",
       "      <td>15.55</td>\n",
       "      <td>21.33</td>\n",
       "    </tr>\n",
       "    <tr>\n",
       "      <th>2</th>\n",
       "      <td>0.98</td>\n",
       "      <td>514.5</td>\n",
       "      <td>294.0</td>\n",
       "      <td>110.25</td>\n",
       "      <td>7.0</td>\n",
       "      <td>4.0</td>\n",
       "      <td>0.0</td>\n",
       "      <td>0.0</td>\n",
       "      <td>15.55</td>\n",
       "      <td>21.33</td>\n",
       "    </tr>\n",
       "    <tr>\n",
       "      <th>3</th>\n",
       "      <td>0.98</td>\n",
       "      <td>514.5</td>\n",
       "      <td>294.0</td>\n",
       "      <td>110.25</td>\n",
       "      <td>7.0</td>\n",
       "      <td>5.0</td>\n",
       "      <td>0.0</td>\n",
       "      <td>0.0</td>\n",
       "      <td>15.55</td>\n",
       "      <td>21.33</td>\n",
       "    </tr>\n",
       "    <tr>\n",
       "      <th>4</th>\n",
       "      <td>0.90</td>\n",
       "      <td>563.5</td>\n",
       "      <td>318.5</td>\n",
       "      <td>122.50</td>\n",
       "      <td>7.0</td>\n",
       "      <td>2.0</td>\n",
       "      <td>0.0</td>\n",
       "      <td>0.0</td>\n",
       "      <td>20.84</td>\n",
       "      <td>28.28</td>\n",
       "    </tr>\n",
       "  </tbody>\n",
       "</table>\n",
       "</div>"
      ],
      "text/plain": [
       "     X1     X2     X3      X4   X5   X6   X7   X8     Y1     Y2\n",
       "0  0.98  514.5  294.0  110.25  7.0  2.0  0.0  0.0  15.55  21.33\n",
       "1  0.98  514.5  294.0  110.25  7.0  3.0  0.0  0.0  15.55  21.33\n",
       "2  0.98  514.5  294.0  110.25  7.0  4.0  0.0  0.0  15.55  21.33\n",
       "3  0.98  514.5  294.0  110.25  7.0  5.0  0.0  0.0  15.55  21.33\n",
       "4  0.90  563.5  318.5  122.50  7.0  2.0  0.0  0.0  20.84  28.28"
      ]
     },
     "metadata": {},
     "output_type": "display_data"
    },
    {
     "data": {
      "text/plain": [
       "X1    float64\n",
       "X2    float64\n",
       "X3    float64\n",
       "X4    float64\n",
       "X5    float64\n",
       "X6    float64\n",
       "X7    float64\n",
       "X8    float64\n",
       "Y1    float64\n",
       "Y2    float64\n",
       "dtype: object"
      ]
     },
     "metadata": {},
     "output_type": "display_data"
    },
    {
     "data": {
      "text/html": [
       "<div>\n",
       "<style scoped>\n",
       "    .dataframe tbody tr th:only-of-type {\n",
       "        vertical-align: middle;\n",
       "    }\n",
       "\n",
       "    .dataframe tbody tr th {\n",
       "        vertical-align: top;\n",
       "    }\n",
       "\n",
       "    .dataframe thead th {\n",
       "        text-align: right;\n",
       "    }\n",
       "</style>\n",
       "<table border=\"1\" class=\"dataframe\">\n",
       "  <thead>\n",
       "    <tr style=\"text-align: right;\">\n",
       "      <th></th>\n",
       "      <th>X1</th>\n",
       "      <th>X2</th>\n",
       "      <th>X3</th>\n",
       "      <th>X4</th>\n",
       "      <th>X5</th>\n",
       "      <th>X6</th>\n",
       "      <th>X7</th>\n",
       "      <th>X8</th>\n",
       "      <th>Y1</th>\n",
       "      <th>Y2</th>\n",
       "    </tr>\n",
       "  </thead>\n",
       "  <tbody>\n",
       "    <tr>\n",
       "      <th>count</th>\n",
       "      <td>768.000000</td>\n",
       "      <td>768.000000</td>\n",
       "      <td>768.000000</td>\n",
       "      <td>768.000000</td>\n",
       "      <td>768.00000</td>\n",
       "      <td>768.000000</td>\n",
       "      <td>768.000000</td>\n",
       "      <td>768.00000</td>\n",
       "      <td>768.000000</td>\n",
       "      <td>768.000000</td>\n",
       "    </tr>\n",
       "    <tr>\n",
       "      <th>mean</th>\n",
       "      <td>0.764167</td>\n",
       "      <td>671.708333</td>\n",
       "      <td>318.500000</td>\n",
       "      <td>176.604167</td>\n",
       "      <td>5.25000</td>\n",
       "      <td>3.500000</td>\n",
       "      <td>0.234375</td>\n",
       "      <td>2.81250</td>\n",
       "      <td>22.307201</td>\n",
       "      <td>24.587760</td>\n",
       "    </tr>\n",
       "    <tr>\n",
       "      <th>std</th>\n",
       "      <td>0.105777</td>\n",
       "      <td>88.086116</td>\n",
       "      <td>43.626481</td>\n",
       "      <td>45.165950</td>\n",
       "      <td>1.75114</td>\n",
       "      <td>1.118763</td>\n",
       "      <td>0.133221</td>\n",
       "      <td>1.55096</td>\n",
       "      <td>10.090196</td>\n",
       "      <td>9.513306</td>\n",
       "    </tr>\n",
       "    <tr>\n",
       "      <th>min</th>\n",
       "      <td>0.620000</td>\n",
       "      <td>514.500000</td>\n",
       "      <td>245.000000</td>\n",
       "      <td>110.250000</td>\n",
       "      <td>3.50000</td>\n",
       "      <td>2.000000</td>\n",
       "      <td>0.000000</td>\n",
       "      <td>0.00000</td>\n",
       "      <td>6.010000</td>\n",
       "      <td>10.900000</td>\n",
       "    </tr>\n",
       "    <tr>\n",
       "      <th>25%</th>\n",
       "      <td>0.682500</td>\n",
       "      <td>606.375000</td>\n",
       "      <td>294.000000</td>\n",
       "      <td>140.875000</td>\n",
       "      <td>3.50000</td>\n",
       "      <td>2.750000</td>\n",
       "      <td>0.100000</td>\n",
       "      <td>1.75000</td>\n",
       "      <td>12.992500</td>\n",
       "      <td>15.620000</td>\n",
       "    </tr>\n",
       "    <tr>\n",
       "      <th>50%</th>\n",
       "      <td>0.750000</td>\n",
       "      <td>673.750000</td>\n",
       "      <td>318.500000</td>\n",
       "      <td>183.750000</td>\n",
       "      <td>5.25000</td>\n",
       "      <td>3.500000</td>\n",
       "      <td>0.250000</td>\n",
       "      <td>3.00000</td>\n",
       "      <td>18.950000</td>\n",
       "      <td>22.080000</td>\n",
       "    </tr>\n",
       "    <tr>\n",
       "      <th>75%</th>\n",
       "      <td>0.830000</td>\n",
       "      <td>741.125000</td>\n",
       "      <td>343.000000</td>\n",
       "      <td>220.500000</td>\n",
       "      <td>7.00000</td>\n",
       "      <td>4.250000</td>\n",
       "      <td>0.400000</td>\n",
       "      <td>4.00000</td>\n",
       "      <td>31.667500</td>\n",
       "      <td>33.132500</td>\n",
       "    </tr>\n",
       "    <tr>\n",
       "      <th>max</th>\n",
       "      <td>0.980000</td>\n",
       "      <td>808.500000</td>\n",
       "      <td>416.500000</td>\n",
       "      <td>220.500000</td>\n",
       "      <td>7.00000</td>\n",
       "      <td>5.000000</td>\n",
       "      <td>0.400000</td>\n",
       "      <td>5.00000</td>\n",
       "      <td>43.100000</td>\n",
       "      <td>48.030000</td>\n",
       "    </tr>\n",
       "  </tbody>\n",
       "</table>\n",
       "</div>"
      ],
      "text/plain": [
       "               X1          X2          X3          X4         X5          X6  \\\n",
       "count  768.000000  768.000000  768.000000  768.000000  768.00000  768.000000   \n",
       "mean     0.764167  671.708333  318.500000  176.604167    5.25000    3.500000   \n",
       "std      0.105777   88.086116   43.626481   45.165950    1.75114    1.118763   \n",
       "min      0.620000  514.500000  245.000000  110.250000    3.50000    2.000000   \n",
       "25%      0.682500  606.375000  294.000000  140.875000    3.50000    2.750000   \n",
       "50%      0.750000  673.750000  318.500000  183.750000    5.25000    3.500000   \n",
       "75%      0.830000  741.125000  343.000000  220.500000    7.00000    4.250000   \n",
       "max      0.980000  808.500000  416.500000  220.500000    7.00000    5.000000   \n",
       "\n",
       "               X7         X8          Y1          Y2  \n",
       "count  768.000000  768.00000  768.000000  768.000000  \n",
       "mean     0.234375    2.81250   22.307201   24.587760  \n",
       "std      0.133221    1.55096   10.090196    9.513306  \n",
       "min      0.000000    0.00000    6.010000   10.900000  \n",
       "25%      0.100000    1.75000   12.992500   15.620000  \n",
       "50%      0.250000    3.00000   18.950000   22.080000  \n",
       "75%      0.400000    4.00000   31.667500   33.132500  \n",
       "max      0.400000    5.00000   43.100000   48.030000  "
      ]
     },
     "metadata": {},
     "output_type": "display_data"
    },
    {
     "data": {
      "text/html": [
       "<div>\n",
       "<style scoped>\n",
       "    .dataframe tbody tr th:only-of-type {\n",
       "        vertical-align: middle;\n",
       "    }\n",
       "\n",
       "    .dataframe tbody tr th {\n",
       "        vertical-align: top;\n",
       "    }\n",
       "\n",
       "    .dataframe thead th {\n",
       "        text-align: right;\n",
       "    }\n",
       "</style>\n",
       "<table border=\"1\" class=\"dataframe\">\n",
       "  <thead>\n",
       "    <tr style=\"text-align: right;\">\n",
       "      <th></th>\n",
       "      <th>X1</th>\n",
       "      <th>X2</th>\n",
       "      <th>X3</th>\n",
       "      <th>X4</th>\n",
       "      <th>X5</th>\n",
       "      <th>X6</th>\n",
       "      <th>X7</th>\n",
       "      <th>X8</th>\n",
       "      <th>Y1</th>\n",
       "      <th>Y2</th>\n",
       "    </tr>\n",
       "  </thead>\n",
       "  <tbody>\n",
       "    <tr>\n",
       "      <th>X1</th>\n",
       "      <td>1.000000e+00</td>\n",
       "      <td>-9.919015e-01</td>\n",
       "      <td>-2.037817e-01</td>\n",
       "      <td>-8.688234e-01</td>\n",
       "      <td>8.277473e-01</td>\n",
       "      <td>4.678592e-17</td>\n",
       "      <td>-2.960552e-15</td>\n",
       "      <td>-7.107006e-16</td>\n",
       "      <td>0.622272</td>\n",
       "      <td>0.634339</td>\n",
       "    </tr>\n",
       "    <tr>\n",
       "      <th>X2</th>\n",
       "      <td>-9.919015e-01</td>\n",
       "      <td>1.000000e+00</td>\n",
       "      <td>1.955016e-01</td>\n",
       "      <td>8.807195e-01</td>\n",
       "      <td>-8.581477e-01</td>\n",
       "      <td>-3.459372e-17</td>\n",
       "      <td>3.636925e-15</td>\n",
       "      <td>2.438409e-15</td>\n",
       "      <td>-0.658120</td>\n",
       "      <td>-0.672999</td>\n",
       "    </tr>\n",
       "    <tr>\n",
       "      <th>X3</th>\n",
       "      <td>-2.037817e-01</td>\n",
       "      <td>1.955016e-01</td>\n",
       "      <td>1.000000e+00</td>\n",
       "      <td>-2.923165e-01</td>\n",
       "      <td>2.809757e-01</td>\n",
       "      <td>-2.429499e-17</td>\n",
       "      <td>-8.567455e-17</td>\n",
       "      <td>2.067384e-16</td>\n",
       "      <td>0.455671</td>\n",
       "      <td>0.427117</td>\n",
       "    </tr>\n",
       "    <tr>\n",
       "      <th>X4</th>\n",
       "      <td>-8.688234e-01</td>\n",
       "      <td>8.807195e-01</td>\n",
       "      <td>-2.923165e-01</td>\n",
       "      <td>1.000000e+00</td>\n",
       "      <td>-9.725122e-01</td>\n",
       "      <td>-5.830058e-17</td>\n",
       "      <td>-1.759011e-15</td>\n",
       "      <td>-1.078071e-15</td>\n",
       "      <td>-0.861828</td>\n",
       "      <td>-0.862547</td>\n",
       "    </tr>\n",
       "    <tr>\n",
       "      <th>X5</th>\n",
       "      <td>8.277473e-01</td>\n",
       "      <td>-8.581477e-01</td>\n",
       "      <td>2.809757e-01</td>\n",
       "      <td>-9.725122e-01</td>\n",
       "      <td>1.000000e+00</td>\n",
       "      <td>4.492205e-17</td>\n",
       "      <td>1.489134e-17</td>\n",
       "      <td>-2.920613e-17</td>\n",
       "      <td>0.889431</td>\n",
       "      <td>0.895785</td>\n",
       "    </tr>\n",
       "    <tr>\n",
       "      <th>X6</th>\n",
       "      <td>4.678592e-17</td>\n",
       "      <td>-3.459372e-17</td>\n",
       "      <td>-2.429499e-17</td>\n",
       "      <td>-5.830058e-17</td>\n",
       "      <td>4.492205e-17</td>\n",
       "      <td>1.000000e+00</td>\n",
       "      <td>-9.406007e-16</td>\n",
       "      <td>-2.549352e-16</td>\n",
       "      <td>-0.002587</td>\n",
       "      <td>0.014290</td>\n",
       "    </tr>\n",
       "    <tr>\n",
       "      <th>X7</th>\n",
       "      <td>-2.960552e-15</td>\n",
       "      <td>3.636925e-15</td>\n",
       "      <td>-8.567455e-17</td>\n",
       "      <td>-1.759011e-15</td>\n",
       "      <td>1.489134e-17</td>\n",
       "      <td>-9.406007e-16</td>\n",
       "      <td>1.000000e+00</td>\n",
       "      <td>2.129642e-01</td>\n",
       "      <td>0.269841</td>\n",
       "      <td>0.207505</td>\n",
       "    </tr>\n",
       "    <tr>\n",
       "      <th>X8</th>\n",
       "      <td>-7.107006e-16</td>\n",
       "      <td>2.438409e-15</td>\n",
       "      <td>2.067384e-16</td>\n",
       "      <td>-1.078071e-15</td>\n",
       "      <td>-2.920613e-17</td>\n",
       "      <td>-2.549352e-16</td>\n",
       "      <td>2.129642e-01</td>\n",
       "      <td>1.000000e+00</td>\n",
       "      <td>0.087368</td>\n",
       "      <td>0.050525</td>\n",
       "    </tr>\n",
       "    <tr>\n",
       "      <th>Y1</th>\n",
       "      <td>6.222722e-01</td>\n",
       "      <td>-6.581202e-01</td>\n",
       "      <td>4.556712e-01</td>\n",
       "      <td>-8.618283e-01</td>\n",
       "      <td>8.894307e-01</td>\n",
       "      <td>-2.586534e-03</td>\n",
       "      <td>2.698410e-01</td>\n",
       "      <td>8.736759e-02</td>\n",
       "      <td>1.000000</td>\n",
       "      <td>0.975862</td>\n",
       "    </tr>\n",
       "    <tr>\n",
       "      <th>Y2</th>\n",
       "      <td>6.343391e-01</td>\n",
       "      <td>-6.729989e-01</td>\n",
       "      <td>4.271170e-01</td>\n",
       "      <td>-8.625466e-01</td>\n",
       "      <td>8.957852e-01</td>\n",
       "      <td>1.428960e-02</td>\n",
       "      <td>2.075050e-01</td>\n",
       "      <td>5.052512e-02</td>\n",
       "      <td>0.975862</td>\n",
       "      <td>1.000000</td>\n",
       "    </tr>\n",
       "  </tbody>\n",
       "</table>\n",
       "</div>"
      ],
      "text/plain": [
       "              X1            X2            X3            X4            X5  \\\n",
       "X1  1.000000e+00 -9.919015e-01 -2.037817e-01 -8.688234e-01  8.277473e-01   \n",
       "X2 -9.919015e-01  1.000000e+00  1.955016e-01  8.807195e-01 -8.581477e-01   \n",
       "X3 -2.037817e-01  1.955016e-01  1.000000e+00 -2.923165e-01  2.809757e-01   \n",
       "X4 -8.688234e-01  8.807195e-01 -2.923165e-01  1.000000e+00 -9.725122e-01   \n",
       "X5  8.277473e-01 -8.581477e-01  2.809757e-01 -9.725122e-01  1.000000e+00   \n",
       "X6  4.678592e-17 -3.459372e-17 -2.429499e-17 -5.830058e-17  4.492205e-17   \n",
       "X7 -2.960552e-15  3.636925e-15 -8.567455e-17 -1.759011e-15  1.489134e-17   \n",
       "X8 -7.107006e-16  2.438409e-15  2.067384e-16 -1.078071e-15 -2.920613e-17   \n",
       "Y1  6.222722e-01 -6.581202e-01  4.556712e-01 -8.618283e-01  8.894307e-01   \n",
       "Y2  6.343391e-01 -6.729989e-01  4.271170e-01 -8.625466e-01  8.957852e-01   \n",
       "\n",
       "              X6            X7            X8        Y1        Y2  \n",
       "X1  4.678592e-17 -2.960552e-15 -7.107006e-16  0.622272  0.634339  \n",
       "X2 -3.459372e-17  3.636925e-15  2.438409e-15 -0.658120 -0.672999  \n",
       "X3 -2.429499e-17 -8.567455e-17  2.067384e-16  0.455671  0.427117  \n",
       "X4 -5.830058e-17 -1.759011e-15 -1.078071e-15 -0.861828 -0.862547  \n",
       "X5  4.492205e-17  1.489134e-17 -2.920613e-17  0.889431  0.895785  \n",
       "X6  1.000000e+00 -9.406007e-16 -2.549352e-16 -0.002587  0.014290  \n",
       "X7 -9.406007e-16  1.000000e+00  2.129642e-01  0.269841  0.207505  \n",
       "X8 -2.549352e-16  2.129642e-01  1.000000e+00  0.087368  0.050525  \n",
       "Y1 -2.586534e-03  2.698410e-01  8.736759e-02  1.000000  0.975862  \n",
       "Y2  1.428960e-02  2.075050e-01  5.052512e-02  0.975862  1.000000  "
      ]
     },
     "execution_count": 6,
     "metadata": {},
     "output_type": "execute_result"
    }
   ],
   "source": [
    "# YOUR CODE HERE\n",
    "\n",
    "# Display a sample of the data\n",
    "display(df.head())\n",
    "\n",
    "# Display the data types\n",
    "display(df.dtypes)\n",
    "\n",
    "# Summary statistics\n",
    "display(df.describe())\n",
    "\n",
    "# Correlation matrix\n",
    "df.corr()"
   ]
  },
  {
   "cell_type": "markdown",
   "id": "899f0ff1-8b5f-461c-99a0-c80e4747b22a",
   "metadata": {},
   "source": [
    "We visualize our correlation matrix with a heatmap, using `seaborn` library:"
   ]
  },
  {
   "cell_type": "code",
   "execution_count": 28,
   "id": "df2b6d43-2c64-4f0e-9f38-7dfc1fbf7bd6",
   "metadata": {},
   "outputs": [
    {
     "data": {
      "image/png": "[encoded data removed]",
      "text/plain": [
       "<Figure size 432x288 with 2 Axes>"
      ]
     },
     "metadata": {
      "needs_background": "light"
     },
     "output_type": "display_data"
    }
   ],
   "source": [
    "seaborn.heatmap(df.corr().round(decimals=2), annot=True, cmap=\"bwr\")\n",
    "plt.show()"
   ]
  },
  {
   "cell_type": "markdown",
   "id": "130a5d95-d2b2-4f64-a6e4-688c1b103eac",
   "metadata": {},
   "source": [
    "Let's do a boxplot. Since the features have very different values, we do separate boxplot for each:"
   ]
  },
  {
   "cell_type": "code",
   "execution_count": 21,
   "id": "028b98d3-ff6a-4778-98d4-f4fbe5239e37",
   "metadata": {},
   "outputs": [
    {
     "data": {
      "image/png": "[encoded data removed]",
      "text/plain": [
       "<Figure size 1080x360 with 10 Axes>"
      ]
     },
     "metadata": {
      "needs_background": "light"
     },
     "output_type": "display_data"
    }
   ],
   "source": [
    "df.plot(\n",
    "    kind='box', \n",
    "    subplots=True, \n",
    "    sharey=False, \n",
    "    figsize=(15, 5)\n",
    ")\n",
    "\n",
    "# increase spacing between subplots\n",
    "plt.subplots_adjust(wspace=1) \n",
    "plt.show()"
   ]
  },
  {
   "cell_type": "markdown",
   "id": "414286c2-e81e-4104-9d15-a199939a96b2",
   "metadata": {},
   "source": [
    "Let's do a pairplot:"
   ]
  },
  {
   "cell_type": "code",
   "execution_count": 29,
   "id": "eed8e780-2ee8-4b3c-add9-2928f866b0be",
   "metadata": {},
   "outputs": [
    {
     "data": {
      "image/png": "[encoded data removed]",
      "text/plain": [
       "<Figure size 1800x1800 with 110 Axes>"
      ]
     },
     "metadata": {
      "needs_background": "light"
     },
     "output_type": "display_data"
    }
   ],
   "source": [
    "seaborn.pairplot(df) \n",
    "plt.show()"
   ]
  },
  {
   "cell_type": "markdown",
   "id": "4573a522-f6a6-4dd6-a68d-fbbfb8bdae99",
   "metadata": {},
   "source": [
    "**Multivariate linear regression**\n",
    "\n",
    "You will first implement a multivariate linear regression, using all the features X to predict the heating load Y1.\n",
    "\n",
    "- Select your features and split your dataset between training and test set, using a 80-20 split"
   ]
  },
  {
   "cell_type": "code",
   "execution_count": 30,
   "id": "1d9e8542-7945-41b8-afe4-41167f95cbbb",
   "metadata": {},
   "outputs": [],
   "source": [
    "# YOUR CODE HERE\n",
    "\n",
    "# We select our features:\n",
    "X = df[['X1','X2','X3','X4','X5','X6','X7','X8']]\n",
    "y = df[['Y1']]\n",
    "\n",
    "# We split our dataset:\n",
    "X_train, X_test, y_train, y_test = train_test_split(X, y, test_size=0.2, random_state=0, shuffle=True)"
   ]
  },
  {
   "cell_type": "markdown",
   "id": "a3bb7b7c-4356-40a0-b1fc-8ce4f2461270",
   "metadata": {},
   "source": [
    "- Rescale your features"
   ]
  },
  {
   "cell_type": "code",
   "execution_count": 31,
   "id": "79cbdf15-b4c3-44e7-a806-c7f5782c1914",
   "metadata": {},
   "outputs": [],
   "source": [
    "# YOUR CODE HERE\n",
    "\n",
    "# Select scaler:\n",
    "scaler = MinMaxScaler()\n",
    "# Fit scaler and transform training set\n",
    "X_train = scaler.fit_transform(X_train)\n",
    "# Transform test set\n",
    "X_test = scaler.transform(X_test)"
   ]
  },
  {
   "cell_type": "markdown",
   "id": "e6f3de85-1699-43db-9560-c8cf51c376ad",
   "metadata": {},
   "source": [
    "- Create a linear regression model and train it."
   ]
  },
  {
   "cell_type": "code",
   "execution_count": 32,
   "id": "6346ee56-49f9-41fc-b650-29e3b0c4323d",
   "metadata": {},
   "outputs": [
    {
     "data": {
      "text/plain": [
       "LinearRegression()"
      ]
     },
     "execution_count": 32,
     "metadata": {},
     "output_type": "execute_result"
    }
   ],
   "source": [
    "# YOUR CODE HERE\n",
    "\n",
    "# Create model\n",
    "model = LinearRegression()\n",
    "# Train model\n",
    "model.fit(X_train, y_train)"
   ]
  },
  {
   "cell_type": "markdown",
   "id": "7e68141e-abc3-45be-bd5e-0181be3c9650",
   "metadata": {},
   "source": [
    "- What is the $R^2$ of your model?\n",
    "- Display a dataframe with the coefficients of your model. Which ones are relatively more important? Can you interpret this result using your intuition?"
   ]
  },
  {
   "cell_type": "code",
   "execution_count": 34,
   "id": "cac297b2-c550-4398-a9a3-0dc6d66d7700",
   "metadata": {},
   "outputs": [
    {
     "name": "stdout",
     "output_type": "stream",
     "text": [
      "R² Score of the model:  0.918\n",
      "Intercept:  29.16632874934848\n"
     ]
    },
    {
     "data": {
      "text/html": [
       "<div>\n",
       "<style scoped>\n",
       "    .dataframe tbody tr th:only-of-type {\n",
       "        vertical-align: middle;\n",
       "    }\n",
       "\n",
       "    .dataframe tbody tr th {\n",
       "        vertical-align: top;\n",
       "    }\n",
       "\n",
       "    .dataframe thead th {\n",
       "        text-align: right;\n",
       "    }\n",
       "</style>\n",
       "<table border=\"1\" class=\"dataframe\">\n",
       "  <thead>\n",
       "    <tr style=\"text-align: right;\">\n",
       "      <th></th>\n",
       "      <th>Coefficients multivariate model</th>\n",
       "    </tr>\n",
       "  </thead>\n",
       "  <tbody>\n",
       "    <tr>\n",
       "      <th>Relative Compactness</th>\n",
       "      <td>-20.762686</td>\n",
       "    </tr>\n",
       "    <tr>\n",
       "      <th>Surface Area</th>\n",
       "      <td>-7.980007</td>\n",
       "    </tr>\n",
       "    <tr>\n",
       "      <th>Wall Area</th>\n",
       "      <td>1.541693</td>\n",
       "    </tr>\n",
       "    <tr>\n",
       "      <th>Roof Area</th>\n",
       "      <td>-11.839104</td>\n",
       "    </tr>\n",
       "    <tr>\n",
       "      <th>Overall Height</th>\n",
       "      <td>14.184758</td>\n",
       "    </tr>\n",
       "    <tr>\n",
       "      <th>Orientation</th>\n",
       "      <td>-0.062678</td>\n",
       "    </tr>\n",
       "    <tr>\n",
       "      <th>Glazing Area</th>\n",
       "      <td>7.923938</td>\n",
       "    </tr>\n",
       "    <tr>\n",
       "      <th>Glazing Area Distribution</th>\n",
       "      <td>0.798258</td>\n",
       "    </tr>\n",
       "  </tbody>\n",
       "</table>\n",
       "</div>"
      ],
      "text/plain": [
       "                           Coefficients multivariate model\n",
       "Relative Compactness                            -20.762686\n",
       "Surface Area                                     -7.980007\n",
       "Wall Area                                         1.541693\n",
       "Roof Area                                       -11.839104\n",
       "Overall Height                                   14.184758\n",
       "Orientation                                      -0.062678\n",
       "Glazing Area                                      7.923938\n",
       "Glazing Area Distribution                         0.798258"
      ]
     },
     "execution_count": 34,
     "metadata": {},
     "output_type": "execute_result"
    }
   ],
   "source": [
    "# YOUR CODE HERE\n",
    "\n",
    "# Compute and display R^2\n",
    "print(\"R\\u00b2 Score of the model: \", round(model.score(X_train, y_train), 3))\n",
    "\n",
    "# Print intercept\n",
    "print(\"Intercept: \", model.intercept_[0]) \n",
    "\n",
    "# Feature names\n",
    "features = ['Relative Compactness', 'Surface Area', 'Wall Area', 'Roof Area', 'Overall Height', 'Orientation', 'Glazing Area' , 'Glazing Area Distribution']\n",
    "\n",
    "# Create dataframe with feature names and associated coefficients\n",
    "model_coeff = pd.DataFrame(model.coef_.flatten(), \n",
    "                     index=features,\n",
    "                     columns=['Coefficients multivariate model'])\n",
    "model_coeff"
   ]
  },
  {
   "cell_type": "markdown",
   "id": "06058101-939a-4f42-8f70-4dec794411f4",
   "metadata": {},
   "source": [
    "- What are the MAE, MSE, and $R^2$ on the test data? How do they compare to the same metrics on the training data?"
   ]
  },
  {
   "cell_type": "markdown",
   "id": "ae0e95b4-1044-415d-b029-82a86419b9ef",
   "metadata": {},
   "source": [
    "We will write a function to automate the procedure since we will perform the same operations for several models. In addition, we will store the MAE and MSE in a dataframe to compare their values with other models at the end."
   ]
  },
  {
   "cell_type": "code",
   "execution_count": 40,
   "id": "433e79c8-6b49-434d-914d-dd207a758fa7",
   "metadata": {},
   "outputs": [],
   "source": [
    "def errors_model(X_test, y_test, X_train, y_train, model, model_name):\n",
    "    \"\"\"This function computes the MAE, MSE, R^2 of a predictive model, both on the test set and on the training set.\"\"\"\n",
    "    # Predict on test set\n",
    "    predictions = model.predict(X_test)\n",
    "    # Compute the MAE, the MSE and the R^2 on the test set\n",
    "    mae = mean_absolute_error(y_test, predictions)\n",
    "    mse = mean_squared_error(y_test, predictions)\n",
    "    r2 = r2_score(y_test, predictions)\n",
    "    # Compute the MAE, the MSE and the R^2 on the training set\n",
    "    predictions_train = model.predict(X_train)\n",
    "    mae_train = mean_absolute_error(y_train, predictions_train)\n",
    "    mse_train = mean_squared_error(y_train, predictions_train)\n",
    "    r2_train = r2_score(y_train, predictions_train)\n",
    "    # Print results\n",
    "    print(f\"MAE test set: {mae:0.2f}; MAE training set: {mae_train:0.2f};\")\n",
    "    print(f\"MSE test set: {mse:0.2f}; MSE training set: {mse_train:0.2f};\")\n",
    "    print(f\"R\\u00b2 test set: {r2:0.2f}; R\\u00b2 training set: {r2_train:0.2f};\" )\n",
    "    # We also create a dataframe with the results MAE and MSE for the test set \n",
    "    df_errors = pd.DataFrame([mae, mse], index=['MAE', 'MSE'], columns=[model_name])\n",
    "    return df_errors"
   ]
  },
  {
   "cell_type": "code",
   "execution_count": 41,
   "id": "0901dd21-e239-4c3d-a7d1-3a28e70d1171",
   "metadata": {},
   "outputs": [
    {
     "name": "stdout",
     "output_type": "stream",
     "text": [
      "MAE test set: 2.22; MAE training set: 2.01;\n",
      "MSE test set: 10.10; MSE training set: 8.16;\n",
      "R² test set: 0.91; R² training set: 0.92;\n"
     ]
    }
   ],
   "source": [
    "errors_multivariate = errors_model(X_test, y_test, X_train, y_train, model, 'Multivariate')"
   ]
  },
  {
   "cell_type": "markdown",
   "id": "becca789-1a00-4ba6-802f-cb2f3d0fd1a6",
   "metadata": {},
   "source": [
    "Our MAE and MSE increase a bit, but stay comparable. Similarly the $R^2$ is similar. It seems that our model can be generalized."
   ]
  },
  {
   "cell_type": "markdown",
   "id": "ddbbd52e-40d0-4eb0-88df-3ed3aa47d705",
   "metadata": {},
   "source": [
    "**Polynomial linear regression**\n",
    "\n",
    "- Generate a new feature matrix consisting of all polynomial combinations of the features with degree less than or equal to 2"
   ]
  },
  {
   "cell_type": "code",
   "execution_count": 43,
   "id": "e5803838-1e0e-4738-8ecf-a50eabcf7030",
   "metadata": {},
   "outputs": [
    {
     "name": "stdout",
     "output_type": "stream",
     "text": [
      "['1', 'Relative Compactness', 'Surface Area', 'Wall Area', 'Roof Area', 'Overall Height', 'Orientation', 'Glazing Area', 'Glazing Area Distribution', 'Relative Compactness^2', 'Relative Compactness Surface Area', 'Relative Compactness Wall Area', 'Relative Compactness Roof Area', 'Relative Compactness Overall Height', 'Relative Compactness Orientation', 'Relative Compactness Glazing Area', 'Relative Compactness Glazing Area Distribution', 'Surface Area^2', 'Surface Area Wall Area', 'Surface Area Roof Area', 'Surface Area Overall Height', 'Surface Area Orientation', 'Surface Area Glazing Area', 'Surface Area Glazing Area Distribution', 'Wall Area^2', 'Wall Area Roof Area', 'Wall Area Overall Height', 'Wall Area Orientation', 'Wall Area Glazing Area', 'Wall Area Glazing Area Distribution', 'Roof Area^2', 'Roof Area Overall Height', 'Roof Area Orientation', 'Roof Area Glazing Area', 'Roof Area Glazing Area Distribution', 'Overall Height^2', 'Overall Height Orientation', 'Overall Height Glazing Area', 'Overall Height Glazing Area Distribution', 'Orientation^2', 'Orientation Glazing Area', 'Orientation Glazing Area Distribution', 'Glazing Area^2', 'Glazing Area Glazing Area Distribution', 'Glazing Area Distribution^2']\n"
     ]
    }
   ],
   "source": [
    "# YOUR CODE HERE\n",
    "\n",
    "# Create polynomial model with 2 degrees\n",
    "poly = PolynomialFeatures(2)\n",
    "\n",
    "# Fit model and transform train set\n",
    "X_train_poly = poly.fit_transform(X_train)\n",
    "\n",
    "# Transform test set\n",
    "X_test_poly = poly.transform(X_test)\n",
    "\n",
    "# Get new feature names\n",
    "X_poly_features = poly.get_feature_names(features)\n",
    "print(X_poly_features)"
   ]
  },
  {
   "cell_type": "markdown",
   "id": "a2b68850-7df7-496f-b93d-f0f14384eab3",
   "metadata": {},
   "source": [
    "- Train a linear regression model with polynomial features\n",
    "- What is the $R^2$"
   ]
  },
  {
   "cell_type": "code",
   "execution_count": 44,
   "id": "0172c7d8-4f78-4117-8df0-f54a4d1769f4",
   "metadata": {},
   "outputs": [
    {
     "name": "stdout",
     "output_type": "stream",
     "text": [
      "R² Score of the model:  0.995\n"
     ]
    }
   ],
   "source": [
    "# YOUR CODE HERE\n",
    "\n",
    "# Set up the model\n",
    "model_poly = LinearRegression(fit_intercept=False) # we don't need fit intercept since polynomial features function add a column of ones to the data \n",
    "# Fit\n",
    "model_poly.fit(X_train_poly, y_train)\n",
    "\n",
    "# Check the score/accuracy\n",
    "print(\"R\\u00b2 Score of the model: \", round(model_poly.score(X_train_poly, y_train), 3))"
   ]
  },
  {
   "cell_type": "markdown",
   "id": "1a31c9b3-8f4f-42c4-b7bc-7f863e0223af",
   "metadata": {},
   "source": [
    "- What are the MAE, MSE, and $R^2$ on the test data? How do they compare to the same metrics on the training data?"
   ]
  },
  {
   "cell_type": "markdown",
   "id": "2270b587-5fca-419b-a9cf-8b28294f02ce",
   "metadata": {},
   "source": [
    "We can use our previously defined function!"
   ]
  },
  {
   "cell_type": "code",
   "execution_count": 45,
   "id": "0deb303c-4448-4459-8492-4baff05b398b",
   "metadata": {},
   "outputs": [
    {
     "name": "stdout",
     "output_type": "stream",
     "text": [
      "MAE test set: 0.62; MAE training set: 0.52;\n",
      "MSE test set: 0.68; MSE training set: 0.48;\n",
      "R² test set: 0.99; R² training set: 1.00;\n"
     ]
    }
   ],
   "source": [
    "# YOUR CODE HERE\n",
    "\n",
    "errors_polynomial = errors_model(X_test_poly, y_test, X_train_poly, y_train, model_poly, 'Polynomial')"
   ]
  },
  {
   "cell_type": "markdown",
   "id": "c3b7c865-02dd-41cd-a87d-86a6be09fe19",
   "metadata": {},
   "source": [
    "The $R^2$ of one on the training set is suspicious, since it indicates a perfect fit. Could it be overfitting? Well, the errors are quite low and similar between training and test set so it seems that we have no overfitting issues, and we designed a great predictive model."
   ]
  },
  {
   "cell_type": "markdown",
   "id": "15cf576e-f6ee-439a-a52c-a9c53b14fdf3",
   "metadata": {},
   "source": [
    "**Regularization**\n",
    "\n",
    "- Train a linear regression model with polynomial features and ridge regression\n",
    "- What are the MAE, MSE, and $R^2$ on the test data?"
   ]
  },
  {
   "cell_type": "code",
   "execution_count": 47,
   "id": "5bbfb723-c9da-4bb7-a13d-b24ab0b8f871",
   "metadata": {},
   "outputs": [
    {
     "name": "stdout",
     "output_type": "stream",
     "text": [
      "MAE test set: 1.94; MAE training set: 1.70;\n",
      "MSE test set: 7.68; MSE training set: 6.06;\n",
      "R² test set: 0.93; R² training set: 0.94;\n"
     ]
    }
   ],
   "source": [
    "# YOUR CODE HERE\n",
    "\n",
    "# Create and Fit model, all in one line!\n",
    "ridge_model = Ridge(alpha=1.0, fit_intercept=False).fit(X_train_poly, y_train)\n",
    "\n",
    "# Compute errors using our function:\n",
    "errors_ridge = errors_model(X_test_poly, y_test, X_train_poly, y_train, ridge_model, 'Ridge')"
   ]
  },
  {
   "cell_type": "markdown",
   "id": "4f95383d-b3de-419c-a25a-36b0e8c97ecf",
   "metadata": {},
   "source": [
    "- Train a linear regression model with polynomial features and lasso regression\n",
    "- What are the MAE, MSE, and $R^2$ on the test data?"
   ]
  },
  {
   "cell_type": "code",
   "execution_count": 50,
   "id": "524ba723-f7b7-464e-8dd1-74443c5b252b",
   "metadata": {},
   "outputs": [
    {
     "name": "stdout",
     "output_type": "stream",
     "text": [
      "MAE test set: 3.30; MAE training set: 2.89;\n",
      "MSE test set: 21.67; MSE training set: 16.49;\n",
      "R² test set: 0.80; R² training set: 0.83;\n"
     ]
    }
   ],
   "source": [
    "# YOUR CODE HERE\n",
    "\n",
    "# Create and Fit model, all in one line!\n",
    "lasso_model = Lasso(alpha=1, fit_intercept=False).fit(X_train_poly, y_train)\n",
    "\n",
    "# Compute errors using our function:\n",
    "errors_lasso = errors_model(X_test_poly, y_test, X_train_poly, y_train, lasso_model, 'LASSO')"
   ]
  },
  {
   "cell_type": "markdown",
   "id": "6684f684-68dc-4dc6-b350-1167637e3434",
   "metadata": {},
   "source": [
    "**Cross-validation**\n",
    "\n",
    "- Train a linear regression model with polynomial features, cross-validation, and the regularization technique of your choice (you can even explore other ones, such as Elastic Net)\n",
    "- What are the MAE, MSE, and $R^2$ on the test data?"
   ]
  },
  {
   "cell_type": "markdown",
   "id": "531516bd-0ebf-469e-8272-bb7de63b75af",
   "metadata": {},
   "source": [
    "We will use Lasso regularization with cross validation `LassoCV` to try a technique we did not implement before:"
   ]
  },
  {
   "cell_type": "code",
   "execution_count": 51,
   "id": "0cbbc6ab-239c-4a8b-8ff6-62baa5dccad6",
   "metadata": {},
   "outputs": [
    {
     "name": "stdout",
     "output_type": "stream",
     "text": [
      "MAE test set: 1.97; MAE training set: 1.79;\n",
      "MSE test set: 8.59; MSE training set: 6.85;\n",
      "R² test set: 0.92; R² training set: 0.93;\n"
     ]
    },
    {
     "name": "stderr",
     "output_type": "stream",
     "text": [
      "C:\\Users\\thurm\\Anaconda3\\lib\\site-packages\\sklearn\\utils\\validation.py:63: DataConversionWarning: A column-vector y was passed when a 1d array was expected. Please change the shape of y to (n_samples, ), for example using ravel().\n",
      "  return f(*args, **kwargs)\n"
     ]
    }
   ],
   "source": [
    "# YOUR CODE HERE\n",
    "\n",
    "# Create and fit model, with 5 folds:\n",
    "lasso_cv_model = LassoCV(cv=5, fit_intercept=False).fit(X_train_poly, y_train)\n",
    "\n",
    "# Erros:\n",
    "errors_cv = errors_model(X_test_poly, y_test, X_train_poly, y_train, lasso_cv_model, 'LASSO with Cross Validation')"
   ]
  },
  {
   "cell_type": "markdown",
   "id": "e87a4c2b-4d4e-43c0-b8d3-0a1507c5f72b",
   "metadata": {},
   "source": [
    "**Model comparison**\n",
    "\n",
    "- Compare your models. Which one gives the most accurate prediction?\n",
    "- Display the coefficients of your best model. What do you observe?"
   ]
  },
  {
   "cell_type": "markdown",
   "id": "5cf3858f-d78c-4388-8552-c85041588ae5",
   "metadata": {},
   "source": [
    "We will concatenate our previously obtained dataframes:"
   ]
  },
  {
   "cell_type": "code",
   "execution_count": 58,
   "id": "67c20480-a91a-4141-8c70-2959d3ef4027",
   "metadata": {},
   "outputs": [
    {
     "data": {
      "text/html": [
       "<div>\n",
       "<style scoped>\n",
       "    .dataframe tbody tr th:only-of-type {\n",
       "        vertical-align: middle;\n",
       "    }\n",
       "\n",
       "    .dataframe tbody tr th {\n",
       "        vertical-align: top;\n",
       "    }\n",
       "\n",
       "    .dataframe thead th {\n",
       "        text-align: right;\n",
       "    }\n",
       "</style>\n",
       "<table border=\"1\" class=\"dataframe\">\n",
       "  <thead>\n",
       "    <tr style=\"text-align: right;\">\n",
       "      <th></th>\n",
       "      <th>Multivariate</th>\n",
       "      <th>Polynomial</th>\n",
       "      <th>Ridge</th>\n",
       "      <th>LASSO</th>\n",
       "      <th>LASSO with Cross Validation</th>\n",
       "    </tr>\n",
       "  </thead>\n",
       "  <tbody>\n",
       "    <tr>\n",
       "      <th>MAE</th>\n",
       "      <td>2.222083</td>\n",
       "      <td>0.620913</td>\n",
       "      <td>1.944348</td>\n",
       "      <td>3.298777</td>\n",
       "      <td>1.973989</td>\n",
       "    </tr>\n",
       "    <tr>\n",
       "      <th>MSE</th>\n",
       "      <td>10.097917</td>\n",
       "      <td>0.680953</td>\n",
       "      <td>7.683001</td>\n",
       "      <td>21.672429</td>\n",
       "      <td>8.586230</td>\n",
       "    </tr>\n",
       "  </tbody>\n",
       "</table>\n",
       "</div>"
      ],
      "text/plain": [
       "     Multivariate  Polynomial     Ridge      LASSO  \\\n",
       "MAE      2.222083    0.620913  1.944348   3.298777   \n",
       "MSE     10.097917    0.680953  7.683001  21.672429   \n",
       "\n",
       "     LASSO with Cross Validation  \n",
       "MAE                     1.973989  \n",
       "MSE                     8.586230  "
      ]
     },
     "execution_count": 58,
     "metadata": {},
     "output_type": "execute_result"
    }
   ],
   "source": [
    "# YOUR CODE HERE\n",
    "\n",
    "# compile the list of dataframes you want to merge\n",
    "df_errors_list = [errors_multivariate, errors_polynomial, errors_ridge, errors_lasso, errors_cv]\n",
    "model_comparison = pd.concat(df_errors_list, axis=1)\n",
    "model_comparison"
   ]
  },
  {
   "cell_type": "markdown",
   "id": "e37a58da-ce23-4584-a6b1-9d581eba0378",
   "metadata": {},
   "source": [
    "We had already observed that the Polynomial model lead to very good predictions, and regularization was probably not needed in our case (but it's always fun to explore several models). Ridge performs better than LASSO. When we optimize the LASSO penalty term with cross validation, we obtain similar results than with Ridge. \n",
    "\n",
    "**Note:** We did not use the $R^2$ because our models have a different number of features, hence comparing $R^2$ would be misleading. Instead, we could have computed the adjusted $R^2$"
   ]
  },
  {
   "cell_type": "markdown",
   "id": "33eb4003-cde2-47d6-8954-ab52d7b1cf91",
   "metadata": {},
   "source": [
    "Let's print the coefficients of our polynomial model:"
   ]
  },
  {
   "cell_type": "code",
   "execution_count": 59,
   "id": "37574386-5ea1-449a-a523-aa424ba2971a",
   "metadata": {},
   "outputs": [
    {
     "data": {
      "text/html": [
       "<div>\n",
       "<style scoped>\n",
       "    .dataframe tbody tr th:only-of-type {\n",
       "        vertical-align: middle;\n",
       "    }\n",
       "\n",
       "    .dataframe tbody tr th {\n",
       "        vertical-align: top;\n",
       "    }\n",
       "\n",
       "    .dataframe thead th {\n",
       "        text-align: right;\n",
       "    }\n",
       "</style>\n",
       "<table border=\"1\" class=\"dataframe\">\n",
       "  <thead>\n",
       "    <tr style=\"text-align: right;\">\n",
       "      <th></th>\n",
       "      <th>Coefficients polynomial model</th>\n",
       "    </tr>\n",
       "  </thead>\n",
       "  <tbody>\n",
       "    <tr>\n",
       "      <th>1</th>\n",
       "      <td>2.829841e+12</td>\n",
       "    </tr>\n",
       "    <tr>\n",
       "      <th>Relative Compactness</th>\n",
       "      <td>8.734855e+10</td>\n",
       "    </tr>\n",
       "    <tr>\n",
       "      <th>Surface Area</th>\n",
       "      <td>-5.720799e+11</td>\n",
       "    </tr>\n",
       "    <tr>\n",
       "      <th>Wall Area</th>\n",
       "      <td>3.963988e+11</td>\n",
       "    </tr>\n",
       "    <tr>\n",
       "      <th>Roof Area</th>\n",
       "      <td>-2.345155e+12</td>\n",
       "    </tr>\n",
       "    <tr>\n",
       "      <th>Overall Height</th>\n",
       "      <td>-1.376456e+12</td>\n",
       "    </tr>\n",
       "    <tr>\n",
       "      <th>Orientation</th>\n",
       "      <td>-6.710578e-01</td>\n",
       "    </tr>\n",
       "    <tr>\n",
       "      <th>Glazing Area</th>\n",
       "      <td>2.211109e+01</td>\n",
       "    </tr>\n",
       "    <tr>\n",
       "      <th>Glazing Area Distribution</th>\n",
       "      <td>9.701290e+00</td>\n",
       "    </tr>\n",
       "    <tr>\n",
       "      <th>Relative Compactness^2</th>\n",
       "      <td>-2.187169e+04</td>\n",
       "    </tr>\n",
       "    <tr>\n",
       "      <th>Relative Compactness Surface Area</th>\n",
       "      <td>-4.503910e+10</td>\n",
       "    </tr>\n",
       "    <tr>\n",
       "      <th>Relative Compactness Wall Area</th>\n",
       "      <td>2.627278e+10</td>\n",
       "    </tr>\n",
       "    <tr>\n",
       "      <th>Relative Compactness Roof Area</th>\n",
       "      <td>-6.107573e+10</td>\n",
       "    </tr>\n",
       "    <tr>\n",
       "      <th>Relative Compactness Overall Height</th>\n",
       "      <td>-6.323668e+10</td>\n",
       "    </tr>\n",
       "    <tr>\n",
       "      <th>Relative Compactness Orientation</th>\n",
       "      <td>1.086023e+00</td>\n",
       "    </tr>\n",
       "    <tr>\n",
       "      <th>Relative Compactness Glazing Area</th>\n",
       "      <td>-2.182107e-01</td>\n",
       "    </tr>\n",
       "    <tr>\n",
       "      <th>Relative Compactness Glazing Area Distribution</th>\n",
       "      <td>-1.643400e+00</td>\n",
       "    </tr>\n",
       "    <tr>\n",
       "      <th>Surface Area^2</th>\n",
       "      <td>1.074332e+11</td>\n",
       "    </tr>\n",
       "    <tr>\n",
       "      <th>Surface Area Wall Area</th>\n",
       "      <td>-1.365507e+11</td>\n",
       "    </tr>\n",
       "    <tr>\n",
       "      <th>Surface Area Roof Area</th>\n",
       "      <td>1.223214e+11</td>\n",
       "    </tr>\n",
       "    <tr>\n",
       "      <th>Surface Area Overall Height</th>\n",
       "      <td>1.278159e+12</td>\n",
       "    </tr>\n",
       "    <tr>\n",
       "      <th>Surface Area Orientation</th>\n",
       "      <td>1.135242e+00</td>\n",
       "    </tr>\n",
       "    <tr>\n",
       "      <th>Surface Area Glazing Area</th>\n",
       "      <td>-4.448580e+00</td>\n",
       "    </tr>\n",
       "    <tr>\n",
       "      <th>Surface Area Glazing Area Distribution</th>\n",
       "      <td>-1.792963e+00</td>\n",
       "    </tr>\n",
       "    <tr>\n",
       "      <th>Wall Area^2</th>\n",
       "      <td>4.309747e+10</td>\n",
       "    </tr>\n",
       "    <tr>\n",
       "      <th>Wall Area Roof Area</th>\n",
       "      <td>-1.274993e+11</td>\n",
       "    </tr>\n",
       "    <tr>\n",
       "      <th>Wall Area Overall Height</th>\n",
       "      <td>-7.886287e+11</td>\n",
       "    </tr>\n",
       "    <tr>\n",
       "      <th>Wall Area Orientation</th>\n",
       "      <td>1.482555e-01</td>\n",
       "    </tr>\n",
       "    <tr>\n",
       "      <th>Wall Area Glazing Area</th>\n",
       "      <td>2.741341e+00</td>\n",
       "    </tr>\n",
       "    <tr>\n",
       "      <th>Wall Area Glazing Area Distribution</th>\n",
       "      <td>2.653449e-01</td>\n",
       "    </tr>\n",
       "    <tr>\n",
       "      <th>Roof Area^2</th>\n",
       "      <td>-2.588841e+11</td>\n",
       "    </tr>\n",
       "    <tr>\n",
       "      <th>Roof Area Overall Height</th>\n",
       "      <td>2.011711e+12</td>\n",
       "    </tr>\n",
       "    <tr>\n",
       "      <th>Roof Area Orientation</th>\n",
       "      <td>-3.191108e-01</td>\n",
       "    </tr>\n",
       "    <tr>\n",
       "      <th>Roof Area Glazing Area</th>\n",
       "      <td>-8.573235e+00</td>\n",
       "    </tr>\n",
       "    <tr>\n",
       "      <th>Roof Area Glazing Area Distribution</th>\n",
       "      <td>-2.466311e+00</td>\n",
       "    </tr>\n",
       "    <tr>\n",
       "      <th>Overall Height^2</th>\n",
       "      <td>-1.376456e+12</td>\n",
       "    </tr>\n",
       "    <tr>\n",
       "      <th>Overall Height Orientation</th>\n",
       "      <td>-3.254386e-01</td>\n",
       "    </tr>\n",
       "    <tr>\n",
       "      <th>Overall Height Glazing Area</th>\n",
       "      <td>-4.982609e+00</td>\n",
       "    </tr>\n",
       "    <tr>\n",
       "      <th>Overall Height Glazing Area Distribution</th>\n",
       "      <td>-1.253467e+00</td>\n",
       "    </tr>\n",
       "    <tr>\n",
       "      <th>Orientation^2</th>\n",
       "      <td>-3.302880e-01</td>\n",
       "    </tr>\n",
       "    <tr>\n",
       "      <th>Orientation Glazing Area</th>\n",
       "      <td>2.588436e-02</td>\n",
       "    </tr>\n",
       "    <tr>\n",
       "      <th>Orientation Glazing Area Distribution</th>\n",
       "      <td>2.958053e-01</td>\n",
       "    </tr>\n",
       "    <tr>\n",
       "      <th>Glazing Area^2</th>\n",
       "      <td>-3.088583e+00</td>\n",
       "    </tr>\n",
       "    <tr>\n",
       "      <th>Glazing Area Glazing Area Distribution</th>\n",
       "      <td>-3.680471e+00</td>\n",
       "    </tr>\n",
       "    <tr>\n",
       "      <th>Glazing Area Distribution^2</th>\n",
       "      <td>-3.294433e+00</td>\n",
       "    </tr>\n",
       "  </tbody>\n",
       "</table>\n",
       "</div>"
      ],
      "text/plain": [
       "                                                Coefficients polynomial model\n",
       "1                                                                2.829841e+12\n",
       "Relative Compactness                                             8.734855e+10\n",
       "Surface Area                                                    -5.720799e+11\n",
       "Wall Area                                                        3.963988e+11\n",
       "Roof Area                                                       -2.345155e+12\n",
       "Overall Height                                                  -1.376456e+12\n",
       "Orientation                                                     -6.710578e-01\n",
       "Glazing Area                                                     2.211109e+01\n",
       "Glazing Area Distribution                                        9.701290e+00\n",
       "Relative Compactness^2                                          -2.187169e+04\n",
       "Relative Compactness Surface Area                               -4.503910e+10\n",
       "Relative Compactness Wall Area                                   2.627278e+10\n",
       "Relative Compactness Roof Area                                  -6.107573e+10\n",
       "Relative Compactness Overall Height                             -6.323668e+10\n",
       "Relative Compactness Orientation                                 1.086023e+00\n",
       "Relative Compactness Glazing Area                               -2.182107e-01\n",
       "Relative Compactness Glazing Area Distribution                  -1.643400e+00\n",
       "Surface Area^2                                                   1.074332e+11\n",
       "Surface Area Wall Area                                          -1.365507e+11\n",
       "Surface Area Roof Area                                           1.223214e+11\n",
       "Surface Area Overall Height                                      1.278159e+12\n",
       "Surface Area Orientation                                         1.135242e+00\n",
       "Surface Area Glazing Area                                       -4.448580e+00\n",
       "Surface Area Glazing Area Distribution                          -1.792963e+00\n",
       "Wall Area^2                                                      4.309747e+10\n",
       "Wall Area Roof Area                                             -1.274993e+11\n",
       "Wall Area Overall Height                                        -7.886287e+11\n",
       "Wall Area Orientation                                            1.482555e-01\n",
       "Wall Area Glazing Area                                           2.741341e+00\n",
       "Wall Area Glazing Area Distribution                              2.653449e-01\n",
       "Roof Area^2                                                     -2.588841e+11\n",
       "Roof Area Overall Height                                         2.011711e+12\n",
       "Roof Area Orientation                                           -3.191108e-01\n",
       "Roof Area Glazing Area                                          -8.573235e+00\n",
       "Roof Area Glazing Area Distribution                             -2.466311e+00\n",
       "Overall Height^2                                                -1.376456e+12\n",
       "Overall Height Orientation                                      -3.254386e-01\n",
       "Overall Height Glazing Area                                     -4.982609e+00\n",
       "Overall Height Glazing Area Distribution                        -1.253467e+00\n",
       "Orientation^2                                                   -3.302880e-01\n",
       "Orientation Glazing Area                                         2.588436e-02\n",
       "Orientation Glazing Area Distribution                            2.958053e-01\n",
       "Glazing Area^2                                                  -3.088583e+00\n",
       "Glazing Area Glazing Area Distribution                          -3.680471e+00\n",
       "Glazing Area Distribution^2                                     -3.294433e+00"
      ]
     },
     "execution_count": 59,
     "metadata": {},
     "output_type": "execute_result"
    }
   ],
   "source": [
    "model_coeff = pd.DataFrame(model_poly.coef_.flatten(), \n",
    "                     index=X_poly_features,\n",
    "                     columns=['Coefficients polynomial model'])\n",
    "model_coeff"
   ]
  },
  {
   "cell_type": "markdown",
   "id": "85398686-1f30-4b54-b83e-1e478b849b6a",
   "metadata": {},
   "source": [
    "We obtained extremely high and low values, which we cannot really interpret. There are several possible explanations:\n",
    "- the features might not be properly scaled: here, it is not the issue, our scaling made our features comparable.\n",
    "- overfitting: we compared the performance of our model on the training and test sets., and obtained good performance for both, so overfitting does not seem like the issue.\n",
    "- collinearity between features: bingo! if we check our correlation matrix, we see that we have a correlation of almost 1 between X1 and X2\n",
    "\n",
    "So, is it an issue? Well, it depends. If all we care about is good prediction, it is not critical, although we need to be careful that our model can be generalized to new data. \n",
    "\n",
    "However, we may care about intepretability, for instance, if we want to gain insights into the underlying factors driving our predictions or if we want to communicate our results in an understandable way. What do we do in this case? We have several options:\n",
    "- either remove one of the correlated features or combine them into a single feature\n",
    "- implement regularization (as we did) to shrink coefficients (Ridge) or select features (LASSO)\n",
    "- explore alternative models\n",
    "\n",
    "Let's see how regularization modified our coefficients:"
   ]
  },
  {
   "cell_type": "code",
   "execution_count": 67,
   "id": "b05cf9b7-5946-4960-b797-367cdf1ab9aa",
   "metadata": {},
   "outputs": [
    {
     "data": {
      "text/html": [
       "<div>\n",
       "<style scoped>\n",
       "    .dataframe tbody tr th:only-of-type {\n",
       "        vertical-align: middle;\n",
       "    }\n",
       "\n",
       "    .dataframe tbody tr th {\n",
       "        vertical-align: top;\n",
       "    }\n",
       "\n",
       "    .dataframe thead th {\n",
       "        text-align: right;\n",
       "    }\n",
       "</style>\n",
       "<table border=\"1\" class=\"dataframe\">\n",
       "  <thead>\n",
       "    <tr style=\"text-align: right;\">\n",
       "      <th></th>\n",
       "      <th>Coefficients polynomial model</th>\n",
       "      <th>Coefficients RIDGE model</th>\n",
       "      <th>Coefficients LASSO model</th>\n",
       "      <th>Coefficients LASSO-CV model</th>\n",
       "    </tr>\n",
       "  </thead>\n",
       "  <tbody>\n",
       "    <tr>\n",
       "      <th>1</th>\n",
       "      <td>2.829841e+12</td>\n",
       "      <td>2.826509</td>\n",
       "      <td>10.802822</td>\n",
       "      <td>7.180690</td>\n",
       "    </tr>\n",
       "    <tr>\n",
       "      <th>Relative Compactness</th>\n",
       "      <td>8.734855e+10</td>\n",
       "      <td>2.557123</td>\n",
       "      <td>0.000000</td>\n",
       "      <td>0.000000</td>\n",
       "    </tr>\n",
       "    <tr>\n",
       "      <th>Surface Area</th>\n",
       "      <td>-5.720799e+11</td>\n",
       "      <td>2.249243</td>\n",
       "      <td>0.000000</td>\n",
       "      <td>0.000000</td>\n",
       "    </tr>\n",
       "    <tr>\n",
       "      <th>Wall Area</th>\n",
       "      <td>3.963988e+11</td>\n",
       "      <td>3.553134</td>\n",
       "      <td>0.151052</td>\n",
       "      <td>2.431144</td>\n",
       "    </tr>\n",
       "    <tr>\n",
       "      <th>Roof Area</th>\n",
       "      <td>-2.345155e+12</td>\n",
       "      <td>0.863554</td>\n",
       "      <td>0.000000</td>\n",
       "      <td>0.000000</td>\n",
       "    </tr>\n",
       "    <tr>\n",
       "      <th>Overall Height</th>\n",
       "      <td>-1.376456e+12</td>\n",
       "      <td>3.853848</td>\n",
       "      <td>15.739066</td>\n",
       "      <td>10.912068</td>\n",
       "    </tr>\n",
       "    <tr>\n",
       "      <th>Orientation</th>\n",
       "      <td>-6.710578e-01</td>\n",
       "      <td>-0.666793</td>\n",
       "      <td>0.000000</td>\n",
       "      <td>0.000000</td>\n",
       "    </tr>\n",
       "    <tr>\n",
       "      <th>Glazing Area</th>\n",
       "      <td>2.211109e+01</td>\n",
       "      <td>5.471534</td>\n",
       "      <td>4.349949</td>\n",
       "      <td>6.962932</td>\n",
       "    </tr>\n",
       "    <tr>\n",
       "      <th>Glazing Area Distribution</th>\n",
       "      <td>9.701290e+00</td>\n",
       "      <td>2.700909</td>\n",
       "      <td>0.000000</td>\n",
       "      <td>1.915740</td>\n",
       "    </tr>\n",
       "    <tr>\n",
       "      <th>Relative Compactness^2</th>\n",
       "      <td>-2.187169e+04</td>\n",
       "      <td>1.800994</td>\n",
       "      <td>0.000000</td>\n",
       "      <td>-0.000000</td>\n",
       "    </tr>\n",
       "    <tr>\n",
       "      <th>Relative Compactness Surface Area</th>\n",
       "      <td>-4.503910e+10</td>\n",
       "      <td>2.061941</td>\n",
       "      <td>0.000000</td>\n",
       "      <td>0.000000</td>\n",
       "    </tr>\n",
       "    <tr>\n",
       "      <th>Relative Compactness Wall Area</th>\n",
       "      <td>2.627278e+10</td>\n",
       "      <td>4.623310</td>\n",
       "      <td>0.000000</td>\n",
       "      <td>0.000000</td>\n",
       "    </tr>\n",
       "    <tr>\n",
       "      <th>Relative Compactness Roof Area</th>\n",
       "      <td>-6.107573e+10</td>\n",
       "      <td>-0.278403</td>\n",
       "      <td>0.000000</td>\n",
       "      <td>0.000000</td>\n",
       "    </tr>\n",
       "    <tr>\n",
       "      <th>Relative Compactness Overall Height</th>\n",
       "      <td>-6.323668e+10</td>\n",
       "      <td>-0.447347</td>\n",
       "      <td>0.000000</td>\n",
       "      <td>-0.000000</td>\n",
       "    </tr>\n",
       "    <tr>\n",
       "      <th>Relative Compactness Orientation</th>\n",
       "      <td>1.086023e+00</td>\n",
       "      <td>0.144284</td>\n",
       "      <td>0.000000</td>\n",
       "      <td>-0.000000</td>\n",
       "    </tr>\n",
       "    <tr>\n",
       "      <th>Relative Compactness Glazing Area</th>\n",
       "      <td>-2.182107e-01</td>\n",
       "      <td>5.811772</td>\n",
       "      <td>0.000000</td>\n",
       "      <td>0.000000</td>\n",
       "    </tr>\n",
       "    <tr>\n",
       "      <th>Relative Compactness Glazing Area Distribution</th>\n",
       "      <td>-1.643400e+00</td>\n",
       "      <td>2.668351</td>\n",
       "      <td>0.000000</td>\n",
       "      <td>0.000000</td>\n",
       "    </tr>\n",
       "    <tr>\n",
       "      <th>Surface Area^2</th>\n",
       "      <td>1.074332e+11</td>\n",
       "      <td>0.409940</td>\n",
       "      <td>0.000000</td>\n",
       "      <td>0.000000</td>\n",
       "    </tr>\n",
       "    <tr>\n",
       "      <th>Surface Area Wall Area</th>\n",
       "      <td>-1.365507e+11</td>\n",
       "      <td>-0.287847</td>\n",
       "      <td>0.000000</td>\n",
       "      <td>0.000000</td>\n",
       "    </tr>\n",
       "    <tr>\n",
       "      <th>Surface Area Roof Area</th>\n",
       "      <td>1.223214e+11</td>\n",
       "      <td>1.270299</td>\n",
       "      <td>0.000000</td>\n",
       "      <td>0.000000</td>\n",
       "    </tr>\n",
       "    <tr>\n",
       "      <th>Surface Area Overall Height</th>\n",
       "      <td>1.278159e+12</td>\n",
       "      <td>6.418693</td>\n",
       "      <td>0.000000</td>\n",
       "      <td>0.667460</td>\n",
       "    </tr>\n",
       "    <tr>\n",
       "      <th>Surface Area Orientation</th>\n",
       "      <td>1.135242e+00</td>\n",
       "      <td>0.303049</td>\n",
       "      <td>0.000000</td>\n",
       "      <td>0.000000</td>\n",
       "    </tr>\n",
       "    <tr>\n",
       "      <th>Surface Area Glazing Area</th>\n",
       "      <td>-4.448580e+00</td>\n",
       "      <td>1.184801</td>\n",
       "      <td>0.000000</td>\n",
       "      <td>0.000000</td>\n",
       "    </tr>\n",
       "    <tr>\n",
       "      <th>Surface Area Glazing Area Distribution</th>\n",
       "      <td>-1.792963e+00</td>\n",
       "      <td>1.150970</td>\n",
       "      <td>0.000000</td>\n",
       "      <td>0.000000</td>\n",
       "    </tr>\n",
       "    <tr>\n",
       "      <th>Wall Area^2</th>\n",
       "      <td>4.309747e+10</td>\n",
       "      <td>-3.980225</td>\n",
       "      <td>0.000000</td>\n",
       "      <td>-0.000000</td>\n",
       "    </tr>\n",
       "    <tr>\n",
       "      <th>Wall Area Roof Area</th>\n",
       "      <td>-1.274993e+11</td>\n",
       "      <td>3.501519</td>\n",
       "      <td>0.000000</td>\n",
       "      <td>2.878083</td>\n",
       "    </tr>\n",
       "    <tr>\n",
       "      <th>Wall Area Overall Height</th>\n",
       "      <td>-7.886287e+11</td>\n",
       "      <td>9.673425</td>\n",
       "      <td>0.000000</td>\n",
       "      <td>8.507564</td>\n",
       "    </tr>\n",
       "    <tr>\n",
       "      <th>Wall Area Orientation</th>\n",
       "      <td>1.482555e-01</td>\n",
       "      <td>0.111906</td>\n",
       "      <td>0.000000</td>\n",
       "      <td>0.000000</td>\n",
       "    </tr>\n",
       "    <tr>\n",
       "      <th>Wall Area Glazing Area</th>\n",
       "      <td>2.741341e+00</td>\n",
       "      <td>3.256192</td>\n",
       "      <td>0.000000</td>\n",
       "      <td>0.412138</td>\n",
       "    </tr>\n",
       "    <tr>\n",
       "      <th>Wall Area Glazing Area Distribution</th>\n",
       "      <td>2.653449e-01</td>\n",
       "      <td>1.565495</td>\n",
       "      <td>0.000000</td>\n",
       "      <td>0.000000</td>\n",
       "    </tr>\n",
       "    <tr>\n",
       "      <th>Roof Area^2</th>\n",
       "      <td>-2.588841e+11</td>\n",
       "      <td>-0.837770</td>\n",
       "      <td>0.000000</td>\n",
       "      <td>0.000000</td>\n",
       "    </tr>\n",
       "    <tr>\n",
       "      <th>Roof Area Overall Height</th>\n",
       "      <td>2.011711e+12</td>\n",
       "      <td>1.890893</td>\n",
       "      <td>0.000000</td>\n",
       "      <td>0.000000</td>\n",
       "    </tr>\n",
       "    <tr>\n",
       "      <th>Roof Area Orientation</th>\n",
       "      <td>-3.191108e-01</td>\n",
       "      <td>0.168851</td>\n",
       "      <td>0.000000</td>\n",
       "      <td>0.000000</td>\n",
       "    </tr>\n",
       "    <tr>\n",
       "      <th>Roof Area Glazing Area</th>\n",
       "      <td>-8.573235e+00</td>\n",
       "      <td>0.263038</td>\n",
       "      <td>0.000000</td>\n",
       "      <td>-0.000000</td>\n",
       "    </tr>\n",
       "    <tr>\n",
       "      <th>Roof Area Glazing Area Distribution</th>\n",
       "      <td>-2.466311e+00</td>\n",
       "      <td>0.917221</td>\n",
       "      <td>0.000000</td>\n",
       "      <td>0.000000</td>\n",
       "    </tr>\n",
       "    <tr>\n",
       "      <th>Overall Height^2</th>\n",
       "      <td>-1.376456e+12</td>\n",
       "      <td>3.853848</td>\n",
       "      <td>0.000000</td>\n",
       "      <td>0.000000</td>\n",
       "    </tr>\n",
       "    <tr>\n",
       "      <th>Overall Height Orientation</th>\n",
       "      <td>-3.254386e-01</td>\n",
       "      <td>0.198285</td>\n",
       "      <td>0.000000</td>\n",
       "      <td>0.000000</td>\n",
       "    </tr>\n",
       "    <tr>\n",
       "      <th>Overall Height Glazing Area</th>\n",
       "      <td>-4.982609e+00</td>\n",
       "      <td>2.073087</td>\n",
       "      <td>0.000000</td>\n",
       "      <td>4.229869</td>\n",
       "    </tr>\n",
       "    <tr>\n",
       "      <th>Overall Height Glazing Area Distribution</th>\n",
       "      <td>-1.253467e+00</td>\n",
       "      <td>0.665912</td>\n",
       "      <td>0.000000</td>\n",
       "      <td>0.540700</td>\n",
       "    </tr>\n",
       "    <tr>\n",
       "      <th>Orientation^2</th>\n",
       "      <td>-3.302880e-01</td>\n",
       "      <td>-0.277550</td>\n",
       "      <td>0.000000</td>\n",
       "      <td>0.000000</td>\n",
       "    </tr>\n",
       "    <tr>\n",
       "      <th>Orientation Glazing Area</th>\n",
       "      <td>2.588436e-02</td>\n",
       "      <td>0.882388</td>\n",
       "      <td>0.000000</td>\n",
       "      <td>0.000000</td>\n",
       "    </tr>\n",
       "    <tr>\n",
       "      <th>Orientation Glazing Area Distribution</th>\n",
       "      <td>2.958053e-01</td>\n",
       "      <td>-0.013682</td>\n",
       "      <td>0.000000</td>\n",
       "      <td>0.000000</td>\n",
       "    </tr>\n",
       "    <tr>\n",
       "      <th>Glazing Area^2</th>\n",
       "      <td>-3.088583e+00</td>\n",
       "      <td>-1.763214</td>\n",
       "      <td>0.000000</td>\n",
       "      <td>-0.000000</td>\n",
       "    </tr>\n",
       "    <tr>\n",
       "      <th>Glazing Area Glazing Area Distribution</th>\n",
       "      <td>-3.680471e+00</td>\n",
       "      <td>-3.359032</td>\n",
       "      <td>0.000000</td>\n",
       "      <td>-2.680044</td>\n",
       "    </tr>\n",
       "    <tr>\n",
       "      <th>Glazing Area Distribution^2</th>\n",
       "      <td>-3.294433e+00</td>\n",
       "      <td>-3.119711</td>\n",
       "      <td>0.000000</td>\n",
       "      <td>-0.000000</td>\n",
       "    </tr>\n",
       "  </tbody>\n",
       "</table>\n",
       "</div>"
      ],
      "text/plain": [
       "                                                Coefficients polynomial model  \\\n",
       "1                                                                2.829841e+12   \n",
       "Relative Compactness                                             8.734855e+10   \n",
       "Surface Area                                                    -5.720799e+11   \n",
       "Wall Area                                                        3.963988e+11   \n",
       "Roof Area                                                       -2.345155e+12   \n",
       "Overall Height                                                  -1.376456e+12   \n",
       "Orientation                                                     -6.710578e-01   \n",
       "Glazing Area                                                     2.211109e+01   \n",
       "Glazing Area Distribution                                        9.701290e+00   \n",
       "Relative Compactness^2                                          -2.187169e+04   \n",
       "Relative Compactness Surface Area                               -4.503910e+10   \n",
       "Relative Compactness Wall Area                                   2.627278e+10   \n",
       "Relative Compactness Roof Area                                  -6.107573e+10   \n",
       "Relative Compactness Overall Height                             -6.323668e+10   \n",
       "Relative Compactness Orientation                                 1.086023e+00   \n",
       "Relative Compactness Glazing Area                               -2.182107e-01   \n",
       "Relative Compactness Glazing Area Distribution                  -1.643400e+00   \n",
       "Surface Area^2                                                   1.074332e+11   \n",
       "Surface Area Wall Area                                          -1.365507e+11   \n",
       "Surface Area Roof Area                                           1.223214e+11   \n",
       "Surface Area Overall Height                                      1.278159e+12   \n",
       "Surface Area Orientation                                         1.135242e+00   \n",
       "Surface Area Glazing Area                                       -4.448580e+00   \n",
       "Surface Area Glazing Area Distribution                          -1.792963e+00   \n",
       "Wall Area^2                                                      4.309747e+10   \n",
       "Wall Area Roof Area                                             -1.274993e+11   \n",
       "Wall Area Overall Height                                        -7.886287e+11   \n",
       "Wall Area Orientation                                            1.482555e-01   \n",
       "Wall Area Glazing Area                                           2.741341e+00   \n",
       "Wall Area Glazing Area Distribution                              2.653449e-01   \n",
       "Roof Area^2                                                     -2.588841e+11   \n",
       "Roof Area Overall Height                                         2.011711e+12   \n",
       "Roof Area Orientation                                           -3.191108e-01   \n",
       "Roof Area Glazing Area                                          -8.573235e+00   \n",
       "Roof Area Glazing Area Distribution                             -2.466311e+00   \n",
       "Overall Height^2                                                -1.376456e+12   \n",
       "Overall Height Orientation                                      -3.254386e-01   \n",
       "Overall Height Glazing Area                                     -4.982609e+00   \n",
       "Overall Height Glazing Area Distribution                        -1.253467e+00   \n",
       "Orientation^2                                                   -3.302880e-01   \n",
       "Orientation Glazing Area                                         2.588436e-02   \n",
       "Orientation Glazing Area Distribution                            2.958053e-01   \n",
       "Glazing Area^2                                                  -3.088583e+00   \n",
       "Glazing Area Glazing Area Distribution                          -3.680471e+00   \n",
       "Glazing Area Distribution^2                                     -3.294433e+00   \n",
       "\n",
       "                                                Coefficients RIDGE model  \\\n",
       "1                                                               2.826509   \n",
       "Relative Compactness                                            2.557123   \n",
       "Surface Area                                                    2.249243   \n",
       "Wall Area                                                       3.553134   \n",
       "Roof Area                                                       0.863554   \n",
       "Overall Height                                                  3.853848   \n",
       "Orientation                                                    -0.666793   \n",
       "Glazing Area                                                    5.471534   \n",
       "Glazing Area Distribution                                       2.700909   \n",
       "Relative Compactness^2                                          1.800994   \n",
       "Relative Compactness Surface Area                               2.061941   \n",
       "Relative Compactness Wall Area                                  4.623310   \n",
       "Relative Compactness Roof Area                                 -0.278403   \n",
       "Relative Compactness Overall Height                            -0.447347   \n",
       "Relative Compactness Orientation                                0.144284   \n",
       "Relative Compactness Glazing Area                               5.811772   \n",
       "Relative Compactness Glazing Area Distribution                  2.668351   \n",
       "Surface Area^2                                                  0.409940   \n",
       "Surface Area Wall Area                                         -0.287847   \n",
       "Surface Area Roof Area                                          1.270299   \n",
       "Surface Area Overall Height                                     6.418693   \n",
       "Surface Area Orientation                                        0.303049   \n",
       "Surface Area Glazing Area                                       1.184801   \n",
       "Surface Area Glazing Area Distribution                          1.150970   \n",
       "Wall Area^2                                                    -3.980225   \n",
       "Wall Area Roof Area                                             3.501519   \n",
       "Wall Area Overall Height                                        9.673425   \n",
       "Wall Area Orientation                                           0.111906   \n",
       "Wall Area Glazing Area                                          3.256192   \n",
       "Wall Area Glazing Area Distribution                             1.565495   \n",
       "Roof Area^2                                                    -0.837770   \n",
       "Roof Area Overall Height                                        1.890893   \n",
       "Roof Area Orientation                                           0.168851   \n",
       "Roof Area Glazing Area                                          0.263038   \n",
       "Roof Area Glazing Area Distribution                             0.917221   \n",
       "Overall Height^2                                                3.853848   \n",
       "Overall Height Orientation                                      0.198285   \n",
       "Overall Height Glazing Area                                     2.073087   \n",
       "Overall Height Glazing Area Distribution                        0.665912   \n",
       "Orientation^2                                                  -0.277550   \n",
       "Orientation Glazing Area                                        0.882388   \n",
       "Orientation Glazing Area Distribution                          -0.013682   \n",
       "Glazing Area^2                                                 -1.763214   \n",
       "Glazing Area Glazing Area Distribution                         -3.359032   \n",
       "Glazing Area Distribution^2                                    -3.119711   \n",
       "\n",
       "                                                Coefficients LASSO model  \\\n",
       "1                                                              10.802822   \n",
       "Relative Compactness                                            0.000000   \n",
       "Surface Area                                                    0.000000   \n",
       "Wall Area                                                       0.151052   \n",
       "Roof Area                                                       0.000000   \n",
       "Overall Height                                                 15.739066   \n",
       "Orientation                                                     0.000000   \n",
       "Glazing Area                                                    4.349949   \n",
       "Glazing Area Distribution                                       0.000000   \n",
       "Relative Compactness^2                                          0.000000   \n",
       "Relative Compactness Surface Area                               0.000000   \n",
       "Relative Compactness Wall Area                                  0.000000   \n",
       "Relative Compactness Roof Area                                  0.000000   \n",
       "Relative Compactness Overall Height                             0.000000   \n",
       "Relative Compactness Orientation                                0.000000   \n",
       "Relative Compactness Glazing Area                               0.000000   \n",
       "Relative Compactness Glazing Area Distribution                  0.000000   \n",
       "Surface Area^2                                                  0.000000   \n",
       "Surface Area Wall Area                                          0.000000   \n",
       "Surface Area Roof Area                                          0.000000   \n",
       "Surface Area Overall Height                                     0.000000   \n",
       "Surface Area Orientation                                        0.000000   \n",
       "Surface Area Glazing Area                                       0.000000   \n",
       "Surface Area Glazing Area Distribution                          0.000000   \n",
       "Wall Area^2                                                     0.000000   \n",
       "Wall Area Roof Area                                             0.000000   \n",
       "Wall Area Overall Height                                        0.000000   \n",
       "Wall Area Orientation                                           0.000000   \n",
       "Wall Area Glazing Area                                          0.000000   \n",
       "Wall Area Glazing Area Distribution                             0.000000   \n",
       "Roof Area^2                                                     0.000000   \n",
       "Roof Area Overall Height                                        0.000000   \n",
       "Roof Area Orientation                                           0.000000   \n",
       "Roof Area Glazing Area                                          0.000000   \n",
       "Roof Area Glazing Area Distribution                             0.000000   \n",
       "Overall Height^2                                                0.000000   \n",
       "Overall Height Orientation                                      0.000000   \n",
       "Overall Height Glazing Area                                     0.000000   \n",
       "Overall Height Glazing Area Distribution                        0.000000   \n",
       "Orientation^2                                                   0.000000   \n",
       "Orientation Glazing Area                                        0.000000   \n",
       "Orientation Glazing Area Distribution                           0.000000   \n",
       "Glazing Area^2                                                  0.000000   \n",
       "Glazing Area Glazing Area Distribution                          0.000000   \n",
       "Glazing Area Distribution^2                                     0.000000   \n",
       "\n",
       "                                                Coefficients LASSO-CV model  \n",
       "1                                                                  7.180690  \n",
       "Relative Compactness                                               0.000000  \n",
       "Surface Area                                                       0.000000  \n",
       "Wall Area                                                          2.431144  \n",
       "Roof Area                                                          0.000000  \n",
       "Overall Height                                                    10.912068  \n",
       "Orientation                                                        0.000000  \n",
       "Glazing Area                                                       6.962932  \n",
       "Glazing Area Distribution                                          1.915740  \n",
       "Relative Compactness^2                                            -0.000000  \n",
       "Relative Compactness Surface Area                                  0.000000  \n",
       "Relative Compactness Wall Area                                     0.000000  \n",
       "Relative Compactness Roof Area                                     0.000000  \n",
       "Relative Compactness Overall Height                               -0.000000  \n",
       "Relative Compactness Orientation                                  -0.000000  \n",
       "Relative Compactness Glazing Area                                  0.000000  \n",
       "Relative Compactness Glazing Area Distribution                     0.000000  \n",
       "Surface Area^2                                                     0.000000  \n",
       "Surface Area Wall Area                                             0.000000  \n",
       "Surface Area Roof Area                                             0.000000  \n",
       "Surface Area Overall Height                                        0.667460  \n",
       "Surface Area Orientation                                           0.000000  \n",
       "Surface Area Glazing Area                                          0.000000  \n",
       "Surface Area Glazing Area Distribution                             0.000000  \n",
       "Wall Area^2                                                       -0.000000  \n",
       "Wall Area Roof Area                                                2.878083  \n",
       "Wall Area Overall Height                                           8.507564  \n",
       "Wall Area Orientation                                              0.000000  \n",
       "Wall Area Glazing Area                                             0.412138  \n",
       "Wall Area Glazing Area Distribution                                0.000000  \n",
       "Roof Area^2                                                        0.000000  \n",
       "Roof Area Overall Height                                           0.000000  \n",
       "Roof Area Orientation                                              0.000000  \n",
       "Roof Area Glazing Area                                            -0.000000  \n",
       "Roof Area Glazing Area Distribution                                0.000000  \n",
       "Overall Height^2                                                   0.000000  \n",
       "Overall Height Orientation                                         0.000000  \n",
       "Overall Height Glazing Area                                        4.229869  \n",
       "Overall Height Glazing Area Distribution                           0.540700  \n",
       "Orientation^2                                                      0.000000  \n",
       "Orientation Glazing Area                                           0.000000  \n",
       "Orientation Glazing Area Distribution                              0.000000  \n",
       "Glazing Area^2                                                    -0.000000  \n",
       "Glazing Area Glazing Area Distribution                            -2.680044  \n",
       "Glazing Area Distribution^2                                       -0.000000  "
      ]
     },
     "execution_count": 67,
     "metadata": {},
     "output_type": "execute_result"
    }
   ],
   "source": [
    "model_coeff['Coefficients RIDGE model'] = ridge_model.coef_.flatten()\n",
    "model_coeff['Coefficients LASSO model'] = lasso_model.coef_.flatten()\n",
    "model_coeff['Coefficients LASSO-CV model'] = lasso_cv_model.coef_.flatten()\n",
    "model_coeff"
   ]
  },
  {
   "cell_type": "markdown",
   "id": "b5163e8f-7462-483f-b9af-79f6540ee614",
   "metadata": {},
   "source": [
    "Here we go, we obtained interpretable coefficients!"
   ]
  },
  {
   "cell_type": "markdown",
   "id": "af759c9e-b26a-4105-9cb5-1a768d7603ae",
   "metadata": {},
   "source": [
    "Feel free to try to improve the prediction of your model implementing other algorithms, preprocessing techniques, and playing with the parameters of your model..."
   ]
  },
  {
   "cell_type": "code",
   "execution_count": null,
   "id": "b60fd70d-3849-4981-83b4-d42219a97673",
   "metadata": {},
   "outputs": [],
   "source": [
    "# YOUR CODE HERE\n",
    "\n"
   ]
  }
 ],
 "metadata": {
  "kernelspec": {
   "display_name": "Python 3",
   "language": "python",
   "name": "python3"
  },
  "language_info": {
   "codemirror_mode": {
    "name": "ipython",
    "version": 3
   },
   "file_extension": ".py",
   "mimetype": "text/x-python",
   "name": "python",
   "nbconvert_exporter": "python",
   "pygments_lexer": "ipython3",
   "version": "3.9.4"
  }
 },
 "nbformat": 4,
 "nbformat_minor": 5
}
